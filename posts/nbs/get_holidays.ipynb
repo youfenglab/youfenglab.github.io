{
 "cells": [
  {
   "cell_type": "raw",
   "id": "9d3c1f99",
   "metadata": {},
   "source": [
    "---\n",
    "title: Get holiday info from date\n",
    "description: Add holiday column into Pandas DataFrame\n",
    "author: Youfeng\n",
    "date: 2022-10-19\n",
    "categories:\n",
    "  - python \n",
    "  - scikit-learn\n",
    "draft: true\n",
    "---"
   ]
  },
  {
   "cell_type": "markdown",
   "id": "2de7413c",
   "metadata": {},
   "source": [
    "## Import packages"
   ]
  },
  {
   "cell_type": "code",
   "execution_count": null,
   "id": "cec16e74",
   "metadata": {},
   "outputs": [],
   "source": [
    "import pandas as pd\n",
    "import holidays\n",
    "from sklearn.base import BaseEstimator, TransformerMixin"
   ]
  },
  {
   "cell_type": "code",
   "execution_count": null,
   "id": "e722cf99",
   "metadata": {},
   "outputs": [],
   "source": [
    "class HolidayAdder(BaseEstimator, TransformerMixin):\n",
    "    def __init__(self, mapping, country, date, drop_code=True, drop_date=True): # drop_code means drop country code.\n",
    "        self.mapping = mapping\n",
    "        self.country = country\n",
    "        self.date = date\n",
    "        self.drop_code = drop_code\n",
    "        self.drop_date = drop_date\n",
    "        \n",
    "    def holiday_getter(self, country_code, date):\n",
    "        h = holidays.country_holidays(country_code).get(date)\n",
    "        if isinstance(h, str):\n",
    "            return h\n",
    "        else:\n",
    "            return 'Not Holiday'\n",
    "        \n",
    "    def fit(self, X, y=None):\n",
    "        return self\n",
    "    \n",
    "    def transform(self, X):\n",
    "        X['country_code'] = X[self.country].map(self.mapping)\n",
    "        X['holiday'] = X.apply(lambda r: self.holiday_getter(r['country_code'], r[self.date]), axis=1)\n",
    "        X['is_holiday'] = np.where(X['holiday'] == 'Not Holiday', False, True)\n",
    "        if self.drop_code:\n",
    "            X.drop('country_code', axis=1, inplace=True)\n",
    "        if self.drop_date:\n",
    "            X.drop(self.date, axis=1, inplace=True)\n",
    "        return X\n",
    "        "
   ]
  },
  {
   "cell_type": "code",
   "execution_count": null,
   "id": "88f046b6",
   "metadata": {},
   "outputs": [],
   "source": []
  }
 ],
 "metadata": {
  "kernelspec": {
   "display_name": "Python 3 (ipykernel)",
   "language": "python",
   "name": "python3"
  }
 },
 "nbformat": 4,
 "nbformat_minor": 5
}
