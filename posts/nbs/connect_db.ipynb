{
 "cells": [
  {
   "cell_type": "raw",
   "id": "d5d9a452",
   "metadata": {},
   "source": [
    "---\n",
    "title: Connect to MySql with Pandas\n",
    "description: This blog show how to connect to MySql database via Pandas\n",
    "date: 2022-9-19\n",
    "image: images/sqlpd.png\n",
    "categories:\n",
    "  - mysql\n",
    "  - database\n",
    "  - pandas\n",
    "---"
   ]
  },
  {
   "cell_type": "markdown",
   "id": "b4bbaa93",
   "metadata": {},
   "source": [
    "### Import packages"
   ]
  },
  {
   "cell_type": "code",
   "execution_count": 1,
   "id": "7e79af9a",
   "metadata": {},
   "outputs": [],
   "source": [
    "import sqlalchemy as sqla\n",
    "import pandas as pd"
   ]
  },
  {
   "cell_type": "markdown",
   "id": "3ae67590",
   "metadata": {},
   "source": [
    "### Connect to a database"
   ]
  },
  {
   "cell_type": "code",
   "execution_count": 2,
   "id": "a0f4df31",
   "metadata": {},
   "outputs": [],
   "source": [
    "db = sqla.create_engine('mysql+mysqlconnector://root:@localhost:3306/farmers_market')"
   ]
  },
  {
   "cell_type": "markdown",
   "id": "5c448857",
   "metadata": {},
   "source": [
    "Get all the tables in the database"
   ]
  },
  {
   "cell_type": "code",
   "execution_count": 3,
   "id": "6fc313e9",
   "metadata": {},
   "outputs": [
    {
     "data": {
      "text/html": [
       "<div>\n",
       "<style scoped>\n",
       "    .dataframe tbody tr th:only-of-type {\n",
       "        vertical-align: middle;\n",
       "    }\n",
       "\n",
       "    .dataframe tbody tr th {\n",
       "        vertical-align: top;\n",
       "    }\n",
       "\n",
       "    .dataframe thead th {\n",
       "        text-align: right;\n",
       "    }\n",
       "</style>\n",
       "<table border=\"1\" class=\"dataframe\">\n",
       "  <thead>\n",
       "    <tr style=\"text-align: right;\">\n",
       "      <th></th>\n",
       "      <th>Tables_in_farmers_market</th>\n",
       "    </tr>\n",
       "  </thead>\n",
       "  <tbody>\n",
       "    <tr>\n",
       "      <th>0</th>\n",
       "      <td>booth</td>\n",
       "    </tr>\n",
       "    <tr>\n",
       "      <th>1</th>\n",
       "      <td>customer</td>\n",
       "    </tr>\n",
       "    <tr>\n",
       "      <th>2</th>\n",
       "      <td>customer_purchases</td>\n",
       "    </tr>\n",
       "    <tr>\n",
       "      <th>3</th>\n",
       "      <td>market_date_info</td>\n",
       "    </tr>\n",
       "    <tr>\n",
       "      <th>4</th>\n",
       "      <td>product</td>\n",
       "    </tr>\n",
       "    <tr>\n",
       "      <th>5</th>\n",
       "      <td>product_category</td>\n",
       "    </tr>\n",
       "    <tr>\n",
       "      <th>6</th>\n",
       "      <td>vendor</td>\n",
       "    </tr>\n",
       "    <tr>\n",
       "      <th>7</th>\n",
       "      <td>vendor_booth_assignments</td>\n",
       "    </tr>\n",
       "    <tr>\n",
       "      <th>8</th>\n",
       "      <td>vendor_inventory</td>\n",
       "    </tr>\n",
       "    <tr>\n",
       "      <th>9</th>\n",
       "      <td>zip_data</td>\n",
       "    </tr>\n",
       "  </tbody>\n",
       "</table>\n",
       "</div>"
      ],
      "text/plain": [
       "   Tables_in_farmers_market\n",
       "0                     booth\n",
       "1                  customer\n",
       "2        customer_purchases\n",
       "3          market_date_info\n",
       "4                   product\n",
       "5          product_category\n",
       "6                    vendor\n",
       "7  vendor_booth_assignments\n",
       "8          vendor_inventory\n",
       "9                  zip_data"
      ]
     },
     "execution_count": 3,
     "metadata": {},
     "output_type": "execute_result"
    }
   ],
   "source": [
    "db_tables = pd.read_sql('show tables from farmers_market', db)\n",
    "db_tables"
   ]
  },
  {
   "cell_type": "markdown",
   "id": "70c05209",
   "metadata": {},
   "source": [
    "### Get information about the schema of each table"
   ]
  },
  {
   "cell_type": "code",
   "execution_count": 4,
   "id": "2043e089",
   "metadata": {},
   "outputs": [
    {
     "name": "stdout",
     "output_type": "stream",
     "text": [
      "****************************** booth ******************************\n",
      "               Field          Type Null  Key Default Extra\n",
      "0       booth_number       int(11)   NO  PRI    None      \n",
      "1  booth_price_level   varchar(45)   NO         None      \n",
      "2  booth_description  varchar(255)   NO         None      \n",
      "3         booth_type   varchar(45)   NO         None       \n",
      "\n",
      "****************************** customer ******************************\n",
      "                 Field         Type Null  Key Default Extra\n",
      "0          customer_id      int(11)   NO  PRI    None      \n",
      "1  customer_first_name  varchar(45)  YES         None      \n",
      "2   customer_last_name  varchar(45)  YES         None      \n",
      "3         customer_zip  varchar(45)  YES         None       \n",
      "\n",
      "****************************** customer_purchases ******************************\n",
      "                      Field           Type Null  Key Default Extra\n",
      "0                product_id        int(11)   NO  PRI    None      \n",
      "1                 vendor_id        int(11)   NO  PRI    None      \n",
      "2               market_date           date   NO  PRI    None      \n",
      "3               customer_id        int(11)   NO  PRI    None      \n",
      "4                  quantity  decimal(16,2)  YES         None      \n",
      "5  cost_to_customer_per_qty  decimal(16,2)  YES         None      \n",
      "6          transaction_time           time   NO  PRI    None       \n",
      "\n",
      "****************************** market_date_info ******************************\n",
      "                Field          Type Null  Key Default Extra\n",
      "0         market_date          date   NO  PRI    None      \n",
      "1          market_day   varchar(45)  YES         None      \n",
      "2         market_week   varchar(45)  YES         None      \n",
      "3         market_year   varchar(45)  YES         None      \n",
      "4   market_start_time   varchar(45)  YES         None      \n",
      "5     market_end_time   varchar(45)  YES         None      \n",
      "6       special_notes          blob  YES         None      \n",
      "7       market_season   varchar(45)  YES         None      \n",
      "8     market_min_temp  varchar(200)  YES         None      \n",
      "9     market_max_temp   varchar(45)  YES         None      \n",
      "10   market_rain_flag       int(11)  YES         None      \n",
      "11   market_snow_flag       int(11)  YES         None       \n",
      "\n",
      "****************************** product ******************************\n",
      "                 Field         Type Null  Key Default Extra\n",
      "0           product_id      int(11)   NO  PRI    None      \n",
      "1         product_name  varchar(45)  YES         None      \n",
      "2         product_size  varchar(45)  YES         None      \n",
      "3  product_category_id      int(11)   NO  PRI    None      \n",
      "4     product_qty_type  varchar(45)  YES         None       \n",
      "\n",
      "****************************** product_category ******************************\n",
      "                   Field         Type Null  Key Default           Extra\n",
      "0    product_category_id      int(11)   NO  PRI    None  auto_increment\n",
      "1  product_category_name  varchar(45)  YES         None                 \n",
      "\n",
      "****************************** vendor ******************************\n",
      "                     Field         Type Null  Key Default           Extra\n",
      "0                vendor_id      int(11)   NO  PRI    None  auto_increment\n",
      "1              vendor_name  varchar(45)   NO  UNI    None                \n",
      "2              vendor_type  varchar(45)   NO         None                \n",
      "3  vendor_owner_first_name  varchar(45)   NO         None                \n",
      "4   vendor_owner_last_name  varchar(45)   NO         None                 \n",
      "\n",
      "****************************** vendor_booth_assignments ******************************\n",
      "          Field     Type Null  Key Default Extra\n",
      "0     vendor_id  int(11)   NO  PRI    None      \n",
      "1  booth_number  int(11)   NO  PRI    None      \n",
      "2   market_date     date   NO  PRI    None       \n",
      "\n",
      "****************************** vendor_inventory ******************************\n",
      "            Field           Type Null  Key Default Extra\n",
      "0     market_date           date   NO  PRI    None      \n",
      "1        quantity  decimal(16,2)  YES         None      \n",
      "2       vendor_id        int(11)   NO  PRI    None      \n",
      "3      product_id        int(11)   NO  PRI    None      \n",
      "4  original_price  decimal(16,2)  YES         None       \n",
      "\n",
      "****************************** zip_data ******************************\n",
      "                     Field     Type Null  Key Default Extra\n",
      "0               zip_code_5  char(5)   NO  PRI    None      \n",
      "1  median_household_income    float  YES         None      \n",
      "2      percent_high_income    float  YES         None      \n",
      "3         percent_under_18    float  YES         None      \n",
      "4          percent_over_65    float  YES         None      \n",
      "5       people_per_sq_mile    float  YES         None      \n",
      "6                 latitude    float  YES         None      \n",
      "7                longitude    float  YES         None       \n",
      "\n"
     ]
    }
   ],
   "source": [
    "tables = db_tables['Tables_in_farmers_market']\n",
    "\n",
    "for table in tables:\n",
    "    desc = pd.read_sql('describe {}'.format(table), db)\n",
    "    print('*'*30, table, '*'*30)\n",
    "    print(desc, '\\n')"
   ]
  },
  {
   "cell_type": "code",
   "execution_count": 5,
   "id": "fdd9059d",
   "metadata": {},
   "outputs": [
    {
     "name": "stdout",
     "output_type": "stream",
     "text": [
      "<class 'pandas.core.frame.DataFrame'>\n",
      "RangeIndex: 23 entries, 0 to 22\n",
      "Data columns (total 5 columns):\n",
      " #   Column               Non-Null Count  Dtype \n",
      "---  ------               --------------  ----- \n",
      " 0   product_id           23 non-null     int64 \n",
      " 1   product_name         23 non-null     object\n",
      " 2   product_size         22 non-null     object\n",
      " 3   product_category_id  23 non-null     int64 \n",
      " 4   product_qty_type     21 non-null     object\n",
      "dtypes: int64(2), object(3)\n",
      "memory usage: 1.0+ KB\n"
     ]
    }
   ],
   "source": [
    "product = pd.read_sql('select * from product', db)\n",
    "product.info()"
   ]
  },
  {
   "cell_type": "code",
   "execution_count": 6,
   "id": "5fea19f8",
   "metadata": {},
   "outputs": [
    {
     "data": {
      "text/html": [
       "<div>\n",
       "<style scoped>\n",
       "    .dataframe tbody tr th:only-of-type {\n",
       "        vertical-align: middle;\n",
       "    }\n",
       "\n",
       "    .dataframe tbody tr th {\n",
       "        vertical-align: top;\n",
       "    }\n",
       "\n",
       "    .dataframe thead th {\n",
       "        text-align: right;\n",
       "    }\n",
       "</style>\n",
       "<table border=\"1\" class=\"dataframe\">\n",
       "  <thead>\n",
       "    <tr style=\"text-align: right;\">\n",
       "      <th></th>\n",
       "      <th>product_id</th>\n",
       "    </tr>\n",
       "  </thead>\n",
       "  <tbody>\n",
       "    <tr>\n",
       "      <th>0</th>\n",
       "      <td>1</td>\n",
       "    </tr>\n",
       "    <tr>\n",
       "      <th>1</th>\n",
       "      <td>2</td>\n",
       "    </tr>\n",
       "    <tr>\n",
       "      <th>2</th>\n",
       "      <td>3</td>\n",
       "    </tr>\n",
       "    <tr>\n",
       "      <th>3</th>\n",
       "      <td>9</td>\n",
       "    </tr>\n",
       "    <tr>\n",
       "      <th>4</th>\n",
       "      <td>12</td>\n",
       "    </tr>\n",
       "  </tbody>\n",
       "</table>\n",
       "</div>"
      ],
      "text/plain": [
       "   product_id\n",
       "0           1\n",
       "1           2\n",
       "2           3\n",
       "3           9\n",
       "4          12"
      ]
     },
     "execution_count": 6,
     "metadata": {},
     "output_type": "execute_result"
    }
   ],
   "source": [
    "pd.read_sql('select product_id from product limit 5', db)"
   ]
  },
  {
   "cell_type": "code",
   "execution_count": null,
   "id": "ef5a3396",
   "metadata": {},
   "outputs": [],
   "source": []
  }
 ],
 "metadata": {
  "kernelspec": {
   "display_name": "Python 3.9.13 ('base')",
   "language": "python",
   "name": "python3"
  },
  "language_info": {
   "codemirror_mode": {
    "name": "ipython",
    "version": 3
   },
   "file_extension": ".py",
   "mimetype": "text/x-python",
   "name": "python",
   "nbconvert_exporter": "python",
   "pygments_lexer": "ipython3",
   "version": "3.9.13"
  },
  "vscode": {
   "interpreter": {
    "hash": "93fbf386d2b6859b9885bbb12872af61d24fa1b32a8010b807d9024f580d7b17"
   }
  }
 },
 "nbformat": 4,
 "nbformat_minor": 5
}
