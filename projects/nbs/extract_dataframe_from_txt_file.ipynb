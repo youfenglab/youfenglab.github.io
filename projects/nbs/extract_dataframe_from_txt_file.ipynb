{
 "cells": [
  {
   "cell_type": "raw",
   "id": "c7823740",
   "metadata": {},
   "source": [
    "---\n",
    "title: \"Extracting and grouping text info by category\"\n",
    "description: \"This notebook shows matching text pattern and extract text and processing strings using Regex.\" \n",
    "date: 2022-10-23\n",
    "categories:\n",
    "  - data cleaning\n",
    "  - regex\n",
    "---"
   ]
  },
  {
   "cell_type": "markdown",
   "id": "60700858",
   "metadata": {},
   "source": [
    "### About the text file:\n",
    "\n",
    "The text file we will work on is a data description file which is part of the Kaggle dataset. The file is used to describe all of the 79 explanatory variables (features) and the meaning of each corresponding category variable's code. "
   ]
  },
  {
   "cell_type": "markdown",
   "id": "ad70e23e",
   "metadata": {},
   "source": [
    "### The goal\n",
    "\n",
    "The goal of this project is to extract the information about the explanatory variables and category variables' codes, then create a seperate pandas dataframe for each one and save as `csv` file for downstream tasks."
   ]
  },
  {
   "cell_type": "markdown",
   "id": "44539f83",
   "metadata": {},
   "source": [
    "### Import packages"
   ]
  },
  {
   "cell_type": "code",
   "execution_count": null,
   "id": "12241338",
   "metadata": {},
   "outputs": [],
   "source": [
    "import pandas as pd\n",
    "import numpy as np\n",
    "import re\n",
    "from fastcore.utils import *"
   ]
  },
  {
   "cell_type": "markdown",
   "id": "4108af31",
   "metadata": {},
   "source": [
    "### Load the data"
   ]
  },
  {
   "cell_type": "markdown",
   "id": "cafea332",
   "metadata": {},
   "source": [
    "The path of the Kaggle dataset."
   ]
  },
  {
   "cell_type": "code",
   "execution_count": null,
   "id": "8299d519",
   "metadata": {},
   "outputs": [],
   "source": [
    "path = Path('./house-prices-advanced-regression-techniques/')"
   ]
  },
  {
   "cell_type": "markdown",
   "id": "925103c8",
   "metadata": {},
   "source": [
    "Have a look at the data"
   ]
  },
  {
   "cell_type": "code",
   "execution_count": null,
   "id": "6e1031b0",
   "metadata": {},
   "outputs": [
    {
     "data": {
      "text/plain": [
       "(1460, 81)"
      ]
     },
     "execution_count": null,
     "metadata": {},
     "output_type": "execute_result"
    }
   ],
   "source": [
    "train_df = pd.read_csv(path/'train.csv')\n",
    "train_df.shape"
   ]
  },
  {
   "cell_type": "code",
   "execution_count": null,
   "id": "5b56e6e7",
   "metadata": {},
   "outputs": [
    {
     "data": {
      "text/html": [
       "<div>\n",
       "<style scoped>\n",
       "    .dataframe tbody tr th:only-of-type {\n",
       "        vertical-align: middle;\n",
       "    }\n",
       "\n",
       "    .dataframe tbody tr th {\n",
       "        vertical-align: top;\n",
       "    }\n",
       "\n",
       "    .dataframe thead th {\n",
       "        text-align: right;\n",
       "    }\n",
       "</style>\n",
       "<table border=\"1\" class=\"dataframe\">\n",
       "  <thead>\n",
       "    <tr style=\"text-align: right;\">\n",
       "      <th></th>\n",
       "      <th>MoSold</th>\n",
       "      <th>YrSold</th>\n",
       "      <th>SaleType</th>\n",
       "      <th>SaleCondition</th>\n",
       "      <th>SalePrice</th>\n",
       "    </tr>\n",
       "  </thead>\n",
       "  <tbody>\n",
       "    <tr>\n",
       "      <th>1455</th>\n",
       "      <td>8</td>\n",
       "      <td>2007</td>\n",
       "      <td>WD</td>\n",
       "      <td>Normal</td>\n",
       "      <td>175000</td>\n",
       "    </tr>\n",
       "    <tr>\n",
       "      <th>1456</th>\n",
       "      <td>2</td>\n",
       "      <td>2010</td>\n",
       "      <td>WD</td>\n",
       "      <td>Normal</td>\n",
       "      <td>210000</td>\n",
       "    </tr>\n",
       "    <tr>\n",
       "      <th>1457</th>\n",
       "      <td>5</td>\n",
       "      <td>2010</td>\n",
       "      <td>WD</td>\n",
       "      <td>Normal</td>\n",
       "      <td>266500</td>\n",
       "    </tr>\n",
       "    <tr>\n",
       "      <th>1458</th>\n",
       "      <td>4</td>\n",
       "      <td>2010</td>\n",
       "      <td>WD</td>\n",
       "      <td>Normal</td>\n",
       "      <td>142125</td>\n",
       "    </tr>\n",
       "    <tr>\n",
       "      <th>1459</th>\n",
       "      <td>6</td>\n",
       "      <td>2008</td>\n",
       "      <td>WD</td>\n",
       "      <td>Normal</td>\n",
       "      <td>147500</td>\n",
       "    </tr>\n",
       "  </tbody>\n",
       "</table>\n",
       "</div>"
      ],
      "text/plain": [
       "      MoSold  YrSold SaleType SaleCondition  SalePrice\n",
       "1455       8    2007       WD        Normal     175000\n",
       "1456       2    2010       WD        Normal     210000\n",
       "1457       5    2010       WD        Normal     266500\n",
       "1458       4    2010       WD        Normal     142125\n",
       "1459       6    2008       WD        Normal     147500"
      ]
     },
     "execution_count": null,
     "metadata": {},
     "output_type": "execute_result"
    }
   ],
   "source": [
    "train_df.tail().iloc[:, -5:]"
   ]
  },
  {
   "cell_type": "code",
   "execution_count": null,
   "id": "8d91f86f",
   "metadata": {},
   "outputs": [
    {
     "data": {
      "text/plain": [
       "(1459, 80)"
      ]
     },
     "execution_count": null,
     "metadata": {},
     "output_type": "execute_result"
    }
   ],
   "source": [
    "test_df = pd.read_csv(path/'test.csv')\n",
    "test_df.shape"
   ]
  },
  {
   "cell_type": "code",
   "execution_count": null,
   "id": "69297f5c",
   "metadata": {},
   "outputs": [
    {
     "data": {
      "text/html": [
       "<div>\n",
       "<style scoped>\n",
       "    .dataframe tbody tr th:only-of-type {\n",
       "        vertical-align: middle;\n",
       "    }\n",
       "\n",
       "    .dataframe tbody tr th {\n",
       "        vertical-align: top;\n",
       "    }\n",
       "\n",
       "    .dataframe thead th {\n",
       "        text-align: right;\n",
       "    }\n",
       "</style>\n",
       "<table border=\"1\" class=\"dataframe\">\n",
       "  <thead>\n",
       "    <tr style=\"text-align: right;\">\n",
       "      <th></th>\n",
       "      <th>MiscVal</th>\n",
       "      <th>MoSold</th>\n",
       "      <th>YrSold</th>\n",
       "      <th>SaleType</th>\n",
       "      <th>SaleCondition</th>\n",
       "    </tr>\n",
       "  </thead>\n",
       "  <tbody>\n",
       "    <tr>\n",
       "      <th>1454</th>\n",
       "      <td>0</td>\n",
       "      <td>6</td>\n",
       "      <td>2006</td>\n",
       "      <td>WD</td>\n",
       "      <td>Normal</td>\n",
       "    </tr>\n",
       "    <tr>\n",
       "      <th>1455</th>\n",
       "      <td>0</td>\n",
       "      <td>4</td>\n",
       "      <td>2006</td>\n",
       "      <td>WD</td>\n",
       "      <td>Abnorml</td>\n",
       "    </tr>\n",
       "    <tr>\n",
       "      <th>1456</th>\n",
       "      <td>0</td>\n",
       "      <td>9</td>\n",
       "      <td>2006</td>\n",
       "      <td>WD</td>\n",
       "      <td>Abnorml</td>\n",
       "    </tr>\n",
       "    <tr>\n",
       "      <th>1457</th>\n",
       "      <td>700</td>\n",
       "      <td>7</td>\n",
       "      <td>2006</td>\n",
       "      <td>WD</td>\n",
       "      <td>Normal</td>\n",
       "    </tr>\n",
       "    <tr>\n",
       "      <th>1458</th>\n",
       "      <td>0</td>\n",
       "      <td>11</td>\n",
       "      <td>2006</td>\n",
       "      <td>WD</td>\n",
       "      <td>Normal</td>\n",
       "    </tr>\n",
       "  </tbody>\n",
       "</table>\n",
       "</div>"
      ],
      "text/plain": [
       "      MiscVal  MoSold  YrSold SaleType SaleCondition\n",
       "1454        0       6    2006       WD        Normal\n",
       "1455        0       4    2006       WD       Abnorml\n",
       "1456        0       9    2006       WD       Abnorml\n",
       "1457      700       7    2006       WD        Normal\n",
       "1458        0      11    2006       WD        Normal"
      ]
     },
     "execution_count": null,
     "metadata": {},
     "output_type": "execute_result"
    }
   ],
   "source": [
    "test_df.tail().iloc[:, -5:]"
   ]
  },
  {
   "cell_type": "code",
   "execution_count": null,
   "id": "b1e84a95",
   "metadata": {},
   "outputs": [
    {
     "name": "stdout",
     "output_type": "stream",
     "text": [
      "<class 'pandas.core.frame.DataFrame'>\n",
      "RangeIndex: 1460 entries, 0 to 1459\n",
      "Data columns (total 81 columns):\n",
      " #   Column         Non-Null Count  Dtype  \n",
      "---  ------         --------------  -----  \n",
      " 0   Id             1460 non-null   int64  \n",
      " 1   MSSubClass     1460 non-null   int64  \n",
      " 2   MSZoning       1460 non-null   object \n",
      " 3   LotFrontage    1201 non-null   float64\n",
      " 4   LotArea        1460 non-null   int64  \n",
      " 5   Street         1460 non-null   object \n",
      " 6   Alley          91 non-null     object \n",
      " 7   LotShape       1460 non-null   object \n",
      " 8   LandContour    1460 non-null   object \n",
      " 9   Utilities      1460 non-null   object \n",
      " 10  LotConfig      1460 non-null   object \n",
      " 11  LandSlope      1460 non-null   object \n",
      " 12  Neighborhood   1460 non-null   object \n",
      " 13  Condition1     1460 non-null   object \n",
      " 14  Condition2     1460 non-null   object \n",
      " 15  BldgType       1460 non-null   object \n",
      " 16  HouseStyle     1460 non-null   object \n",
      " 17  OverallQual    1460 non-null   int64  \n",
      " 18  OverallCond    1460 non-null   int64  \n",
      " 19  YearBuilt      1460 non-null   int64  \n",
      " 20  YearRemodAdd   1460 non-null   int64  \n",
      " 21  RoofStyle      1460 non-null   object \n",
      " 22  RoofMatl       1460 non-null   object \n",
      " 23  Exterior1st    1460 non-null   object \n",
      " 24  Exterior2nd    1460 non-null   object \n",
      " 25  MasVnrType     1452 non-null   object \n",
      " 26  MasVnrArea     1452 non-null   float64\n",
      " 27  ExterQual      1460 non-null   object \n",
      " 28  ExterCond      1460 non-null   object \n",
      " 29  Foundation     1460 non-null   object \n",
      " 30  BsmtQual       1423 non-null   object \n",
      " 31  BsmtCond       1423 non-null   object \n",
      " 32  BsmtExposure   1422 non-null   object \n",
      " 33  BsmtFinType1   1423 non-null   object \n",
      " 34  BsmtFinSF1     1460 non-null   int64  \n",
      " 35  BsmtFinType2   1422 non-null   object \n",
      " 36  BsmtFinSF2     1460 non-null   int64  \n",
      " 37  BsmtUnfSF      1460 non-null   int64  \n",
      " 38  TotalBsmtSF    1460 non-null   int64  \n",
      " 39  Heating        1460 non-null   object \n",
      " 40  HeatingQC      1460 non-null   object \n",
      " 41  CentralAir     1460 non-null   object \n",
      " 42  Electrical     1459 non-null   object \n",
      " 43  1stFlrSF       1460 non-null   int64  \n",
      " 44  2ndFlrSF       1460 non-null   int64  \n",
      " 45  LowQualFinSF   1460 non-null   int64  \n",
      " 46  GrLivArea      1460 non-null   int64  \n",
      " 47  BsmtFullBath   1460 non-null   int64  \n",
      " 48  BsmtHalfBath   1460 non-null   int64  \n",
      " 49  FullBath       1460 non-null   int64  \n",
      " 50  HalfBath       1460 non-null   int64  \n",
      " 51  BedroomAbvGr   1460 non-null   int64  \n",
      " 52  KitchenAbvGr   1460 non-null   int64  \n",
      " 53  KitchenQual    1460 non-null   object \n",
      " 54  TotRmsAbvGrd   1460 non-null   int64  \n",
      " 55  Functional     1460 non-null   object \n",
      " 56  Fireplaces     1460 non-null   int64  \n",
      " 57  FireplaceQu    770 non-null    object \n",
      " 58  GarageType     1379 non-null   object \n",
      " 59  GarageYrBlt    1379 non-null   float64\n",
      " 60  GarageFinish   1379 non-null   object \n",
      " 61  GarageCars     1460 non-null   int64  \n",
      " 62  GarageArea     1460 non-null   int64  \n",
      " 63  GarageQual     1379 non-null   object \n",
      " 64  GarageCond     1379 non-null   object \n",
      " 65  PavedDrive     1460 non-null   object \n",
      " 66  WoodDeckSF     1460 non-null   int64  \n",
      " 67  OpenPorchSF    1460 non-null   int64  \n",
      " 68  EnclosedPorch  1460 non-null   int64  \n",
      " 69  3SsnPorch      1460 non-null   int64  \n",
      " 70  ScreenPorch    1460 non-null   int64  \n",
      " 71  PoolArea       1460 non-null   int64  \n",
      " 72  PoolQC         7 non-null      object \n",
      " 73  Fence          281 non-null    object \n",
      " 74  MiscFeature    54 non-null     object \n",
      " 75  MiscVal        1460 non-null   int64  \n",
      " 76  MoSold         1460 non-null   int64  \n",
      " 77  YrSold         1460 non-null   int64  \n",
      " 78  SaleType       1460 non-null   object \n",
      " 79  SaleCondition  1460 non-null   object \n",
      " 80  SalePrice      1460 non-null   int64  \n",
      "dtypes: float64(3), int64(35), object(43)\n",
      "memory usage: 924.0+ KB\n"
     ]
    }
   ],
   "source": [
    "train_df.info()"
   ]
  },
  {
   "cell_type": "markdown",
   "id": "f9be7f7e",
   "metadata": {},
   "source": [
    "From the above, we know that train set (except the dependent valiable `SalePrice`) and test set both have 79 explanatory variables (excluding `Id`). \n",
    "\n",
    "All the independent variables are:"
   ]
  },
  {
   "cell_type": "code",
   "execution_count": null,
   "id": "fe50074f",
   "metadata": {},
   "outputs": [
    {
     "data": {
      "text/plain": [
       "Index(['MSSubClass', 'MSZoning', 'LotFrontage', 'LotArea', 'Street', 'Alley',\n",
       "       'LotShape', 'LandContour', 'Utilities', 'LotConfig', 'LandSlope',\n",
       "       'Neighborhood', 'Condition1', 'Condition2', 'BldgType', 'HouseStyle',\n",
       "       'OverallQual', 'OverallCond', 'YearBuilt', 'YearRemodAdd', 'RoofStyle',\n",
       "       'RoofMatl', 'Exterior1st', 'Exterior2nd', 'MasVnrType', 'MasVnrArea',\n",
       "       'ExterQual', 'ExterCond', 'Foundation', 'BsmtQual', 'BsmtCond',\n",
       "       'BsmtExposure', 'BsmtFinType1', 'BsmtFinSF1', 'BsmtFinType2',\n",
       "       'BsmtFinSF2', 'BsmtUnfSF', 'TotalBsmtSF', 'Heating', 'HeatingQC',\n",
       "       'CentralAir', 'Electrical', '1stFlrSF', '2ndFlrSF', 'LowQualFinSF',\n",
       "       'GrLivArea', 'BsmtFullBath', 'BsmtHalfBath', 'FullBath', 'HalfBath',\n",
       "       'BedroomAbvGr', 'KitchenAbvGr', 'KitchenQual', 'TotRmsAbvGrd',\n",
       "       'Functional', 'Fireplaces', 'FireplaceQu', 'GarageType', 'GarageYrBlt',\n",
       "       'GarageFinish', 'GarageCars', 'GarageArea', 'GarageQual', 'GarageCond',\n",
       "       'PavedDrive', 'WoodDeckSF', 'OpenPorchSF', 'EnclosedPorch', '3SsnPorch',\n",
       "       'ScreenPorch', 'PoolArea', 'PoolQC', 'Fence', 'MiscFeature', 'MiscVal',\n",
       "       'MoSold', 'YrSold', 'SaleType', 'SaleCondition'],\n",
       "      dtype='object')"
      ]
     },
     "execution_count": null,
     "metadata": {},
     "output_type": "execute_result"
    }
   ],
   "source": [
    "ind_vars = train_df.columns[1:-1]\n",
    "ind_vars"
   ]
  },
  {
   "cell_type": "code",
   "execution_count": null,
   "id": "36b557bb",
   "metadata": {},
   "outputs": [
    {
     "data": {
      "text/plain": [
       "79"
      ]
     },
     "execution_count": null,
     "metadata": {},
     "output_type": "execute_result"
    }
   ],
   "source": [
    "len(ind_vars)"
   ]
  },
  {
   "cell_type": "markdown",
   "id": "451f64ec",
   "metadata": {},
   "source": [
    "Among the independent variables, some are numerical variables, others are category variables."
   ]
  },
  {
   "cell_type": "code",
   "execution_count": null,
   "id": "e16d659b",
   "metadata": {},
   "outputs": [
    {
     "data": {
      "text/plain": [
       "Index(['Id', 'MSSubClass', 'LotFrontage', 'LotArea', 'OverallQual',\n",
       "       'OverallCond', 'YearBuilt', 'YearRemodAdd', 'MasVnrArea', 'BsmtFinSF1',\n",
       "       'BsmtFinSF2', 'BsmtUnfSF', 'TotalBsmtSF', '1stFlrSF', '2ndFlrSF',\n",
       "       'LowQualFinSF', 'GrLivArea', 'BsmtFullBath', 'BsmtHalfBath', 'FullBath',\n",
       "       'HalfBath', 'BedroomAbvGr', 'KitchenAbvGr', 'TotRmsAbvGrd',\n",
       "       'Fireplaces', 'GarageYrBlt', 'GarageCars', 'GarageArea', 'WoodDeckSF',\n",
       "       'OpenPorchSF', 'EnclosedPorch', '3SsnPorch', 'ScreenPorch', 'PoolArea',\n",
       "       'MiscVal', 'MoSold', 'YrSold', 'SalePrice'],\n",
       "      dtype='object')"
      ]
     },
     "execution_count": null,
     "metadata": {},
     "output_type": "execute_result"
    }
   ],
   "source": [
    "num_cols = train_df.select_dtypes(include=np.number).columns # numeric columns\n",
    "num_cols"
   ]
  },
  {
   "cell_type": "code",
   "execution_count": null,
   "id": "a2a1a3dc",
   "metadata": {},
   "outputs": [
    {
     "data": {
      "text/plain": [
       "Index(['MSZoning', 'Street', 'Alley', 'LotShape', 'LandContour', 'Utilities',\n",
       "       'LotConfig', 'LandSlope', 'Neighborhood', 'Condition1', 'Condition2',\n",
       "       'BldgType', 'HouseStyle', 'RoofStyle', 'RoofMatl', 'Exterior1st',\n",
       "       'Exterior2nd', 'MasVnrType', 'ExterQual', 'ExterCond', 'Foundation',\n",
       "       'BsmtQual', 'BsmtCond', 'BsmtExposure', 'BsmtFinType1', 'BsmtFinType2',\n",
       "       'Heating', 'HeatingQC', 'CentralAir', 'Electrical', 'KitchenQual',\n",
       "       'Functional', 'FireplaceQu', 'GarageType', 'GarageFinish', 'GarageQual',\n",
       "       'GarageCond', 'PavedDrive', 'PoolQC', 'Fence', 'MiscFeature',\n",
       "       'SaleType', 'SaleCondition'],\n",
       "      dtype='object')"
      ]
     },
     "execution_count": null,
     "metadata": {},
     "output_type": "execute_result"
    }
   ],
   "source": [
    "cat_cols = train_df.select_dtypes(include='object').columns # category columns\n",
    "cat_cols"
   ]
  },
  {
   "cell_type": "markdown",
   "id": "150a6fc3",
   "metadata": {},
   "source": [
    "Let have a look at the data description file: `data_description.txt`"
   ]
  },
  {
   "cell_type": "markdown",
   "id": "b07ad76e",
   "metadata": {},
   "source": [
    "The first 30 lines is as below:"
   ]
  },
  {
   "cell_type": "code",
   "execution_count": null,
   "id": "1f3c2603",
   "metadata": {},
   "outputs": [
    {
     "name": "stdout",
     "output_type": "stream",
     "text": [
      "MSSubClass: Identifies the type of dwelling involved in the sale.\t\r\n",
      "\r\n",
      "        20\t1-STORY 1946 & NEWER ALL STYLES\r\n",
      "        30\t1-STORY 1945 & OLDER\r\n",
      "        40\t1-STORY W/FINISHED ATTIC ALL AGES\r\n",
      "        45\t1-1/2 STORY - UNFINISHED ALL AGES\r\n",
      "        50\t1-1/2 STORY FINISHED ALL AGES\r\n",
      "        60\t2-STORY 1946 & NEWER\r\n",
      "        70\t2-STORY 1945 & OLDER\r\n",
      "        75\t2-1/2 STORY ALL AGES\r\n",
      "        80\tSPLIT OR MULTI-LEVEL\r\n",
      "        85\tSPLIT FOYER\r\n",
      "        90\tDUPLEX - ALL STYLES AND AGES\r\n",
      "       120\t1-STORY PUD (Planned Unit Development) - 1946 & NEWER\r\n",
      "       150\t1-1/2 STORY PUD - ALL AGES\r\n",
      "       160\t2-STORY PUD - 1946 & NEWER\r\n",
      "       180\tPUD - MULTILEVEL - INCL SPLIT LEV/FOYER\r\n",
      "       190\t2 FAMILY CONVERSION - ALL STYLES AND AGES\r\n",
      "\r\n",
      "MSZoning: Identifies the general zoning classification of the sale.\r\n",
      "\t\t\r\n",
      "       A\tAgriculture\r\n",
      "       C\tCommercial\r\n",
      "       FV\tFloating Village Residential\r\n",
      "       I\tIndustrial\r\n",
      "       RH\tResidential High Density\r\n",
      "       RL\tResidential Low Density\r\n",
      "       RP\tResidential Low Density Park \r\n",
      "       RM\tResidential Medium Density\r\n",
      "\t\r\n"
     ]
    }
   ],
   "source": [
    "!head -n 30 {path/'data_description.txt'}"
   ]
  },
  {
   "cell_type": "markdown",
   "id": "6c2803dc",
   "metadata": {},
   "source": [
    "Let grep the lines with `MS`"
   ]
  },
  {
   "cell_type": "code",
   "execution_count": null,
   "id": "8c724f00",
   "metadata": {},
   "outputs": [
    {
     "name": "stdout",
     "output_type": "stream",
     "text": [
      "MSSubClass: Identifies the type of dwelling involved in the sale.\t\r\n",
      "MSZoning: Identifies the general zoning classification of the sale.\r\n"
     ]
    }
   ],
   "source": [
    "!grep MS {path/'data_description.txt'}"
   ]
  },
  {
   "cell_type": "code",
   "execution_count": null,
   "id": "3182a59a",
   "metadata": {},
   "outputs": [
    {
     "name": "stdout",
     "output_type": "stream",
     "text": [
      "\u001b[0m\u001b[32m1\u001b[0m:\u001b[0m\u001b[1m\u001b[31mMS\u001b[0mSubClass: Identifies the type of dwelling involved in the sale.\t\r\n",
      "\u001b[0m\u001b[32m20\u001b[0m:\u001b[0m\u001b[1m\u001b[31mMS\u001b[0mZoning: Identifies the general zoning classification of the sale.\r\n"
     ]
    }
   ],
   "source": [
    "!rg MS {path/'data_description.txt'}"
   ]
  },
  {
   "cell_type": "markdown",
   "id": "ae16f4c1",
   "metadata": {},
   "source": [
    "Read the text file and split lines into a list"
   ]
  },
  {
   "cell_type": "code",
   "execution_count": null,
   "id": "d898af2c",
   "metadata": {},
   "outputs": [
    {
     "data": {
      "text/plain": [
       "['MSSubClass: Identifies the type of dwelling involved in the sale.\\t',\n",
       " '',\n",
       " '        20\\t1-STORY 1946 & NEWER ALL STYLES',\n",
       " '        30\\t1-STORY 1945 & OLDER',\n",
       " '        40\\t1-STORY W/FINISHED ATTIC ALL AGES',\n",
       " '        45\\t1-1/2 STORY - UNFINISHED ALL AGES',\n",
       " '        50\\t1-1/2 STORY FINISHED ALL AGES',\n",
       " '        60\\t2-STORY 1946 & NEWER',\n",
       " '        70\\t2-STORY 1945 & OLDER',\n",
       " '        75\\t2-1/2 STORY ALL AGES',\n",
       " '        80\\tSPLIT OR MULTI-LEVEL',\n",
       " '        85\\tSPLIT FOYER',\n",
       " '        90\\tDUPLEX - ALL STYLES AND AGES',\n",
       " '       120\\t1-STORY PUD (Planned Unit Development) - 1946 & NEWER',\n",
       " '       150\\t1-1/2 STORY PUD - ALL AGES',\n",
       " '       160\\t2-STORY PUD - 1946 & NEWER',\n",
       " '       180\\tPUD - MULTILEVEL - INCL SPLIT LEV/FOYER',\n",
       " '       190\\t2 FAMILY CONVERSION - ALL STYLES AND AGES',\n",
       " '',\n",
       " 'MSZoning: Identifies the general zoning classification of the sale.',\n",
       " '\\t\\t',\n",
       " '       A\\tAgriculture',\n",
       " '       C\\tCommercial',\n",
       " '       FV\\tFloating Village Residential',\n",
       " '       I\\tIndustrial',\n",
       " '       RH\\tResidential High Density',\n",
       " '       RL\\tResidential Low Density',\n",
       " '       RP\\tResidential Low Density Park ',\n",
       " '       RM\\tResidential Medium Density',\n",
       " '\\t']"
      ]
     },
     "execution_count": null,
     "metadata": {},
     "output_type": "execute_result"
    }
   ],
   "source": [
    "desc = (path/'data_description.txt').read_text().splitlines()\n",
    "desc[:30]"
   ]
  },
  {
   "cell_type": "markdown",
   "id": "15a5ba5d",
   "metadata": {},
   "source": [
    "Remove all the empty lines."
   ]
  },
  {
   "cell_type": "code",
   "execution_count": null,
   "id": "209d9950",
   "metadata": {},
   "outputs": [
    {
     "data": {
      "text/plain": [
       "['MSSubClass: Identifies the type of dwelling involved in the sale.\\t',\n",
       " '        20\\t1-STORY 1946 & NEWER ALL STYLES',\n",
       " '        30\\t1-STORY 1945 & OLDER',\n",
       " '        40\\t1-STORY W/FINISHED ATTIC ALL AGES',\n",
       " '        45\\t1-1/2 STORY - UNFINISHED ALL AGES',\n",
       " '        50\\t1-1/2 STORY FINISHED ALL AGES',\n",
       " '        60\\t2-STORY 1946 & NEWER',\n",
       " '        70\\t2-STORY 1945 & OLDER',\n",
       " '        75\\t2-1/2 STORY ALL AGES',\n",
       " '        80\\tSPLIT OR MULTI-LEVEL',\n",
       " '        85\\tSPLIT FOYER',\n",
       " '        90\\tDUPLEX - ALL STYLES AND AGES',\n",
       " '       120\\t1-STORY PUD (Planned Unit Development) - 1946 & NEWER',\n",
       " '       150\\t1-1/2 STORY PUD - ALL AGES',\n",
       " '       160\\t2-STORY PUD - 1946 & NEWER',\n",
       " '       180\\tPUD - MULTILEVEL - INCL SPLIT LEV/FOYER',\n",
       " '       190\\t2 FAMILY CONVERSION - ALL STYLES AND AGES',\n",
       " 'MSZoning: Identifies the general zoning classification of the sale.',\n",
       " '       A\\tAgriculture',\n",
       " '       C\\tCommercial',\n",
       " '       FV\\tFloating Village Residential',\n",
       " '       I\\tIndustrial',\n",
       " '       RH\\tResidential High Density',\n",
       " '       RL\\tResidential Low Density',\n",
       " '       RP\\tResidential Low Density Park ',\n",
       " '       RM\\tResidential Medium Density',\n",
       " 'LotFrontage: Linear feet of street connected to property',\n",
       " 'LotArea: Lot size in square feet',\n",
       " 'Street: Type of road access to property',\n",
       " '       Grvl\\tGravel\\t']"
      ]
     },
     "execution_count": null,
     "metadata": {},
     "output_type": "execute_result"
    }
   ],
   "source": [
    "desc = [i for i in desc if len(i.strip()) != 0]\n",
    "desc[:30]"
   ]
  },
  {
   "cell_type": "markdown",
   "id": "846c3d97",
   "metadata": {},
   "source": [
    "After looking at the above text file, we noticed that the data types of some independent variables are incorrect. \n",
    "\n",
    "Let fix it."
   ]
  },
  {
   "cell_type": "markdown",
   "id": "75d7b46a",
   "metadata": {},
   "source": [
    "### Define a function to extract all the descriptions about the 79 explanatory variables and check the data type."
   ]
  },
  {
   "cell_type": "code",
   "execution_count": null,
   "id": "fa881b73",
   "metadata": {},
   "outputs": [],
   "source": [
    "def var_desc(txt, ind_vars):\n",
    "    d = {}\n",
    "    cat = {}\n",
    "    for i, t in enumerate(txt):\n",
    "        rt = re.findall(r'(\\S+): ([^\\t?]+)', t)\n",
    "        if rt:\n",
    "            if rt[0][0] in ind_vars:\n",
    "                d[rt[0][0]] = rt[0][1]\n",
    "                if txt[i+1].startswith(' '):\n",
    "                    cat[rt[0][0]] = 'Category'\n",
    "    df = pd.DataFrame(d.items(), columns=['Variable', 'Variabe_Description'])\n",
    "    df['Variable_Type'] = df.Variable.map(cat).fillna('Numerical')\n",
    "    return df"
   ]
  },
  {
   "cell_type": "code",
   "execution_count": null,
   "id": "64846e52",
   "metadata": {},
   "outputs": [
    {
     "data": {
      "text/html": [
       "<div>\n",
       "<style scoped>\n",
       "    .dataframe tbody tr th:only-of-type {\n",
       "        vertical-align: middle;\n",
       "    }\n",
       "\n",
       "    .dataframe tbody tr th {\n",
       "        vertical-align: top;\n",
       "    }\n",
       "\n",
       "    .dataframe thead th {\n",
       "        text-align: right;\n",
       "    }\n",
       "</style>\n",
       "<table border=\"1\" class=\"dataframe\">\n",
       "  <thead>\n",
       "    <tr style=\"text-align: right;\">\n",
       "      <th></th>\n",
       "      <th>Variable</th>\n",
       "      <th>Variabe_Description</th>\n",
       "      <th>Variable_Type</th>\n",
       "    </tr>\n",
       "  </thead>\n",
       "  <tbody>\n",
       "    <tr>\n",
       "      <th>0</th>\n",
       "      <td>MSSubClass</td>\n",
       "      <td>Identifies the type of dwelling involved in th...</td>\n",
       "      <td>Category</td>\n",
       "    </tr>\n",
       "    <tr>\n",
       "      <th>1</th>\n",
       "      <td>MSZoning</td>\n",
       "      <td>Identifies the general zoning classification o...</td>\n",
       "      <td>Category</td>\n",
       "    </tr>\n",
       "    <tr>\n",
       "      <th>2</th>\n",
       "      <td>LotFrontage</td>\n",
       "      <td>Linear feet of street connected to property</td>\n",
       "      <td>Numerical</td>\n",
       "    </tr>\n",
       "    <tr>\n",
       "      <th>3</th>\n",
       "      <td>LotArea</td>\n",
       "      <td>Lot size in square feet</td>\n",
       "      <td>Numerical</td>\n",
       "    </tr>\n",
       "    <tr>\n",
       "      <th>4</th>\n",
       "      <td>Street</td>\n",
       "      <td>Type of road access to property</td>\n",
       "      <td>Category</td>\n",
       "    </tr>\n",
       "  </tbody>\n",
       "</table>\n",
       "</div>"
      ],
      "text/plain": [
       "      Variable                                Variabe_Description  \\\n",
       "0   MSSubClass  Identifies the type of dwelling involved in th...   \n",
       "1     MSZoning  Identifies the general zoning classification o...   \n",
       "2  LotFrontage        Linear feet of street connected to property   \n",
       "3      LotArea                            Lot size in square feet   \n",
       "4       Street                    Type of road access to property   \n",
       "\n",
       "  Variable_Type  \n",
       "0      Category  \n",
       "1      Category  \n",
       "2     Numerical  \n",
       "3     Numerical  \n",
       "4      Category  "
      ]
     },
     "execution_count": null,
     "metadata": {},
     "output_type": "execute_result"
    }
   ],
   "source": [
    "df = var_desc(desc, ind_vars)\n",
    "df.head()"
   ]
  },
  {
   "cell_type": "code",
   "execution_count": null,
   "id": "2c09292f",
   "metadata": {},
   "outputs": [
    {
     "data": {
      "text/plain": [
       "77"
      ]
     },
     "execution_count": null,
     "metadata": {},
     "output_type": "execute_result"
    }
   ],
   "source": [
    "len(df)"
   ]
  },
  {
   "cell_type": "code",
   "execution_count": null,
   "id": "23cef6c7",
   "metadata": {},
   "outputs": [],
   "source": [
    "df.to_csv(path/f'vars_desc.csv', index=False)"
   ]
  },
  {
   "cell_type": "code",
   "execution_count": null,
   "id": "864638ee",
   "metadata": {},
   "outputs": [
    {
     "data": {
      "text/plain": [
       "(array(['MSSubClass', 'MSZoning', 'Street', 'Alley', 'LotShape',\n",
       "        'LandContour', 'Utilities', 'LotConfig', 'LandSlope',\n",
       "        'Neighborhood', 'Condition1', 'Condition2', 'BldgType',\n",
       "        'HouseStyle', 'OverallQual', 'OverallCond', 'RoofStyle',\n",
       "        'RoofMatl', 'Exterior1st', 'Exterior2nd', 'MasVnrType',\n",
       "        'ExterQual', 'ExterCond', 'Foundation', 'BsmtQual', 'BsmtCond',\n",
       "        'BsmtExposure', 'BsmtFinType1', 'BsmtFinType2', 'Heating',\n",
       "        'HeatingQC', 'CentralAir', 'Electrical', 'KitchenQual',\n",
       "        'Functional', 'FireplaceQu', 'GarageType', 'GarageFinish',\n",
       "        'GarageQual', 'GarageCond', 'PavedDrive', 'PoolQC', 'Fence',\n",
       "        'MiscFeature', 'SaleType', 'SaleCondition'], dtype=object),\n",
       " 46)"
      ]
     },
     "execution_count": null,
     "metadata": {},
     "output_type": "execute_result"
    }
   ],
   "source": [
    "cat_vars = df['Variable'][df['Variable_Type'] == 'Category'].values\n",
    "cat_vars, len(cat_vars)"
   ]
  },
  {
   "cell_type": "code",
   "execution_count": null,
   "id": "349b3c65",
   "metadata": {},
   "outputs": [
    {
     "data": {
      "text/plain": [
       "(Index(['MSZoning', 'Street', 'Alley', 'LotShape', 'LandContour', 'Utilities',\n",
       "        'LotConfig', 'LandSlope', 'Neighborhood', 'Condition1', 'Condition2',\n",
       "        'BldgType', 'HouseStyle', 'RoofStyle', 'RoofMatl', 'Exterior1st',\n",
       "        'Exterior2nd', 'MasVnrType', 'ExterQual', 'ExterCond', 'Foundation',\n",
       "        'BsmtQual', 'BsmtCond', 'BsmtExposure', 'BsmtFinType1', 'BsmtFinType2',\n",
       "        'Heating', 'HeatingQC', 'CentralAir', 'Electrical', 'KitchenQual',\n",
       "        'Functional', 'FireplaceQu', 'GarageType', 'GarageFinish', 'GarageQual',\n",
       "        'GarageCond', 'PavedDrive', 'PoolQC', 'Fence', 'MiscFeature',\n",
       "        'SaleType', 'SaleCondition'],\n",
       "       dtype='object'),\n",
       " 43)"
      ]
     },
     "execution_count": null,
     "metadata": {},
     "output_type": "execute_result"
    }
   ],
   "source": [
    "cat_cols, len(cat_cols)"
   ]
  },
  {
   "cell_type": "code",
   "execution_count": null,
   "id": "38308c9f",
   "metadata": {},
   "outputs": [
    {
     "data": {
      "text/plain": [
       "[]"
      ]
     },
     "execution_count": null,
     "metadata": {},
     "output_type": "execute_result"
    }
   ],
   "source": [
    "[i for i in cat_cols if i not in cat_vars]"
   ]
  },
  {
   "cell_type": "code",
   "execution_count": null,
   "id": "3e4a8fdc",
   "metadata": {},
   "outputs": [
    {
     "data": {
      "text/plain": [
       "['MSSubClass', 'OverallQual', 'OverallCond']"
      ]
     },
     "execution_count": null,
     "metadata": {},
     "output_type": "execute_result"
    }
   ],
   "source": [
    "[i for i in cat_vars if i not in cat_cols]"
   ]
  },
  {
   "cell_type": "markdown",
   "id": "3eda7ff2",
   "metadata": {},
   "source": [
    "After comparing the results of data types from the original train set and text file, we get the category variables."
   ]
  },
  {
   "cell_type": "code",
   "execution_count": null,
   "id": "bf0d21ca",
   "metadata": {},
   "outputs": [
    {
     "data": {
      "text/plain": [
       "array(['MSSubClass', 'MSZoning', 'Street', 'Alley', 'LotShape',\n",
       "       'LandContour', 'Utilities', 'LotConfig', 'LandSlope',\n",
       "       'Neighborhood', 'Condition1', 'Condition2', 'BldgType',\n",
       "       'HouseStyle', 'OverallQual', 'OverallCond', 'RoofStyle',\n",
       "       'RoofMatl', 'Exterior1st', 'Exterior2nd', 'MasVnrType',\n",
       "       'ExterQual', 'ExterCond', 'Foundation', 'BsmtQual', 'BsmtCond',\n",
       "       'BsmtExposure', 'BsmtFinType1', 'BsmtFinType2', 'Heating',\n",
       "       'HeatingQC', 'CentralAir', 'Electrical', 'KitchenQual',\n",
       "       'Functional', 'FireplaceQu', 'GarageType', 'GarageFinish',\n",
       "       'GarageQual', 'GarageCond', 'PavedDrive', 'PoolQC', 'Fence',\n",
       "       'MiscFeature', 'SaleType', 'SaleCondition'], dtype=object)"
      ]
     },
     "execution_count": null,
     "metadata": {},
     "output_type": "execute_result"
    }
   ],
   "source": [
    "cat_vars"
   ]
  },
  {
   "cell_type": "markdown",
   "id": "68fe1831",
   "metadata": {},
   "source": [
    "### Define a function to extract all the information about each category variable's codes."
   ]
  },
  {
   "cell_type": "code",
   "execution_count": null,
   "id": "7f6fb572",
   "metadata": {},
   "outputs": [],
   "source": [
    "def cat_desc(txt, col_name):\n",
    "    d = {}\n",
    "    # find the column name match the category variable\n",
    "    for i in range(len(txt)):\n",
    "        rt1 = re.match(col_name, txt[i])\n",
    "        if rt1:\n",
    "#             print(rt1.group(0), i) # debugging\n",
    "            j = i+1\n",
    "    # extract the info about the the corresponding category variable\n",
    "    for t in txt[j:]:\n",
    "        if t.startswith(' '): # check if the text start with white space\n",
    "            # find two parts (the code and code description) using regex\n",
    "            # the code might be 'NA' , digits or any word characters\n",
    "            rt2 = re.findall(r'\\s+(\\d+\\.\\d+\\w+|NA\\s+|\\w+\\&?\\w*?\\s*?)\\t(.*)', t, flags=re.IGNORECASE) \n",
    "            d[rt2[0][0].strip()] = (rt2[0][1]).strip()\n",
    "        else:\n",
    "            break\n",
    "    # return a dataframe of the category variable\n",
    "    return pd.DataFrame(d.items(), columns=[col_name, col_name + '_Description'])"
   ]
  },
  {
   "cell_type": "markdown",
   "id": "401e91c1",
   "metadata": {},
   "source": [
    "Test the function with category variable `MSSubClass` and `SaleCondition`"
   ]
  },
  {
   "cell_type": "code",
   "execution_count": null,
   "id": "27c27e24",
   "metadata": {},
   "outputs": [
    {
     "data": {
      "text/html": [
       "<div>\n",
       "<style scoped>\n",
       "    .dataframe tbody tr th:only-of-type {\n",
       "        vertical-align: middle;\n",
       "    }\n",
       "\n",
       "    .dataframe tbody tr th {\n",
       "        vertical-align: top;\n",
       "    }\n",
       "\n",
       "    .dataframe thead th {\n",
       "        text-align: right;\n",
       "    }\n",
       "</style>\n",
       "<table border=\"1\" class=\"dataframe\">\n",
       "  <thead>\n",
       "    <tr style=\"text-align: right;\">\n",
       "      <th></th>\n",
       "      <th>MSSubClass</th>\n",
       "      <th>MSSubClass_Description</th>\n",
       "    </tr>\n",
       "  </thead>\n",
       "  <tbody>\n",
       "    <tr>\n",
       "      <th>0</th>\n",
       "      <td>20</td>\n",
       "      <td>1-STORY 1946 &amp; NEWER ALL STYLES</td>\n",
       "    </tr>\n",
       "    <tr>\n",
       "      <th>1</th>\n",
       "      <td>30</td>\n",
       "      <td>1-STORY 1945 &amp; OLDER</td>\n",
       "    </tr>\n",
       "    <tr>\n",
       "      <th>2</th>\n",
       "      <td>40</td>\n",
       "      <td>1-STORY W/FINISHED ATTIC ALL AGES</td>\n",
       "    </tr>\n",
       "    <tr>\n",
       "      <th>3</th>\n",
       "      <td>45</td>\n",
       "      <td>1-1/2 STORY - UNFINISHED ALL AGES</td>\n",
       "    </tr>\n",
       "    <tr>\n",
       "      <th>4</th>\n",
       "      <td>50</td>\n",
       "      <td>1-1/2 STORY FINISHED ALL AGES</td>\n",
       "    </tr>\n",
       "    <tr>\n",
       "      <th>5</th>\n",
       "      <td>60</td>\n",
       "      <td>2-STORY 1946 &amp; NEWER</td>\n",
       "    </tr>\n",
       "    <tr>\n",
       "      <th>6</th>\n",
       "      <td>70</td>\n",
       "      <td>2-STORY 1945 &amp; OLDER</td>\n",
       "    </tr>\n",
       "    <tr>\n",
       "      <th>7</th>\n",
       "      <td>75</td>\n",
       "      <td>2-1/2 STORY ALL AGES</td>\n",
       "    </tr>\n",
       "    <tr>\n",
       "      <th>8</th>\n",
       "      <td>80</td>\n",
       "      <td>SPLIT OR MULTI-LEVEL</td>\n",
       "    </tr>\n",
       "    <tr>\n",
       "      <th>9</th>\n",
       "      <td>85</td>\n",
       "      <td>SPLIT FOYER</td>\n",
       "    </tr>\n",
       "    <tr>\n",
       "      <th>10</th>\n",
       "      <td>90</td>\n",
       "      <td>DUPLEX - ALL STYLES AND AGES</td>\n",
       "    </tr>\n",
       "    <tr>\n",
       "      <th>11</th>\n",
       "      <td>120</td>\n",
       "      <td>1-STORY PUD (Planned Unit Development) - 1946 ...</td>\n",
       "    </tr>\n",
       "    <tr>\n",
       "      <th>12</th>\n",
       "      <td>150</td>\n",
       "      <td>1-1/2 STORY PUD - ALL AGES</td>\n",
       "    </tr>\n",
       "    <tr>\n",
       "      <th>13</th>\n",
       "      <td>160</td>\n",
       "      <td>2-STORY PUD - 1946 &amp; NEWER</td>\n",
       "    </tr>\n",
       "    <tr>\n",
       "      <th>14</th>\n",
       "      <td>180</td>\n",
       "      <td>PUD - MULTILEVEL - INCL SPLIT LEV/FOYER</td>\n",
       "    </tr>\n",
       "    <tr>\n",
       "      <th>15</th>\n",
       "      <td>190</td>\n",
       "      <td>2 FAMILY CONVERSION - ALL STYLES AND AGES</td>\n",
       "    </tr>\n",
       "  </tbody>\n",
       "</table>\n",
       "</div>"
      ],
      "text/plain": [
       "   MSSubClass                             MSSubClass_Description\n",
       "0          20                    1-STORY 1946 & NEWER ALL STYLES\n",
       "1          30                               1-STORY 1945 & OLDER\n",
       "2          40                  1-STORY W/FINISHED ATTIC ALL AGES\n",
       "3          45                  1-1/2 STORY - UNFINISHED ALL AGES\n",
       "4          50                      1-1/2 STORY FINISHED ALL AGES\n",
       "5          60                               2-STORY 1946 & NEWER\n",
       "6          70                               2-STORY 1945 & OLDER\n",
       "7          75                               2-1/2 STORY ALL AGES\n",
       "8          80                               SPLIT OR MULTI-LEVEL\n",
       "9          85                                        SPLIT FOYER\n",
       "10         90                       DUPLEX - ALL STYLES AND AGES\n",
       "11        120  1-STORY PUD (Planned Unit Development) - 1946 ...\n",
       "12        150                         1-1/2 STORY PUD - ALL AGES\n",
       "13        160                         2-STORY PUD - 1946 & NEWER\n",
       "14        180            PUD - MULTILEVEL - INCL SPLIT LEV/FOYER\n",
       "15        190          2 FAMILY CONVERSION - ALL STYLES AND AGES"
      ]
     },
     "execution_count": null,
     "metadata": {},
     "output_type": "execute_result"
    }
   ],
   "source": [
    "col_name = 'MSSubClass'\n",
    "cat_desc(desc, col_name)"
   ]
  },
  {
   "cell_type": "code",
   "execution_count": null,
   "id": "2c59f976",
   "metadata": {},
   "outputs": [
    {
     "data": {
      "text/html": [
       "<div>\n",
       "<style scoped>\n",
       "    .dataframe tbody tr th:only-of-type {\n",
       "        vertical-align: middle;\n",
       "    }\n",
       "\n",
       "    .dataframe tbody tr th {\n",
       "        vertical-align: top;\n",
       "    }\n",
       "\n",
       "    .dataframe thead th {\n",
       "        text-align: right;\n",
       "    }\n",
       "</style>\n",
       "<table border=\"1\" class=\"dataframe\">\n",
       "  <thead>\n",
       "    <tr style=\"text-align: right;\">\n",
       "      <th></th>\n",
       "      <th>SaleCondition</th>\n",
       "      <th>SaleCondition_Description</th>\n",
       "    </tr>\n",
       "  </thead>\n",
       "  <tbody>\n",
       "    <tr>\n",
       "      <th>0</th>\n",
       "      <td>Normal</td>\n",
       "      <td>Normal Sale</td>\n",
       "    </tr>\n",
       "    <tr>\n",
       "      <th>1</th>\n",
       "      <td>Abnorml</td>\n",
       "      <td>Abnormal Sale -  trade, foreclosure, short sale</td>\n",
       "    </tr>\n",
       "    <tr>\n",
       "      <th>2</th>\n",
       "      <td>AdjLand</td>\n",
       "      <td>Adjoining Land Purchase</td>\n",
       "    </tr>\n",
       "    <tr>\n",
       "      <th>3</th>\n",
       "      <td>Alloca</td>\n",
       "      <td>Allocation - two linked properties with separa...</td>\n",
       "    </tr>\n",
       "    <tr>\n",
       "      <th>4</th>\n",
       "      <td>Family</td>\n",
       "      <td>Sale between family members</td>\n",
       "    </tr>\n",
       "    <tr>\n",
       "      <th>5</th>\n",
       "      <td>Partial</td>\n",
       "      <td>Home was not completed when last assessed (ass...</td>\n",
       "    </tr>\n",
       "  </tbody>\n",
       "</table>\n",
       "</div>"
      ],
      "text/plain": [
       "  SaleCondition                          SaleCondition_Description\n",
       "0        Normal                                        Normal Sale\n",
       "1       Abnorml    Abnormal Sale -  trade, foreclosure, short sale\n",
       "2       AdjLand                            Adjoining Land Purchase\n",
       "3        Alloca  Allocation - two linked properties with separa...\n",
       "4        Family                        Sale between family members\n",
       "5       Partial  Home was not completed when last assessed (ass..."
      ]
     },
     "execution_count": null,
     "metadata": {},
     "output_type": "execute_result"
    }
   ],
   "source": [
    "col_name = 'SaleCondition'\n",
    "cat_desc(desc, col_name)"
   ]
  },
  {
   "cell_type": "markdown",
   "id": "a15233c6",
   "metadata": {},
   "source": [
    "### Create pandas dataframe and save them as `csv` files."
   ]
  },
  {
   "cell_type": "code",
   "execution_count": null,
   "id": "f3c71078",
   "metadata": {},
   "outputs": [],
   "source": [
    "for cat_var in cat_vars:\n",
    "    cat_df = cat_desc(desc, cat_var)\n",
    "    cat_df.to_csv(path/f'{cat_var}.csv', index=False)"
   ]
  },
  {
   "cell_type": "code",
   "execution_count": null,
   "id": "ce6ff671",
   "metadata": {},
   "outputs": [
    {
     "name": "stdout",
     "output_type": "stream",
     "text": [
      "Alley.csv             Foundation.csv        MiscFeature.csv\r\n",
      "BldgType.csv          Functional.csv        Neighborhood.csv\r\n",
      "BsmtCond.csv          GarageCond.csv        OverallCond.csv\r\n",
      "BsmtExposure.csv      GarageFinish.csv      OverallQual.csv\r\n",
      "BsmtFinType1.csv      GarageQual.csv        PavedDrive.csv\r\n",
      "BsmtFinType2.csv      GarageType.csv        PoolQC.csv\r\n",
      "BsmtQual.csv          Heating.csv           RoofMatl.csv\r\n",
      "CentralAir.csv        HeatingQC.csv         RoofStyle.csv\r\n",
      "Condition1.csv        HouseStyle.csv        SaleCondition.csv\r\n",
      "Condition2.csv        KitchenQual.csv       SaleType.csv\r\n",
      "Electrical.csv        LandContour.csv       Street.csv\r\n",
      "ExterCond.csv         LandSlope.csv         Utilities.csv\r\n",
      "ExterQual.csv         LotConfig.csv         data_description.txt\r\n",
      "Exterior1st.csv       LotShape.csv          sample_submission.csv\r\n",
      "Exterior2nd.csv       MSSubClass.csv        test.csv\r\n",
      "Fence.csv             MSZoning.csv          train.csv\r\n",
      "FireplaceQu.csv       MasVnrType.csv        vars_desc.csv\r\n"
     ]
    }
   ],
   "source": [
    "!ls {path}"
   ]
  },
  {
   "cell_type": "code",
   "execution_count": null,
   "id": "d74bec7a",
   "metadata": {},
   "outputs": [],
   "source": []
  }
 ],
 "metadata": {
  "kernelspec": {
   "display_name": "Python 3.9.13 ('base')",
   "language": "python",
   "name": "python3"
  },
  "language_info": {
   "name": "python",
   "version": "3.9.13"
  },
  "vscode": {
   "interpreter": {
    "hash": "93fbf386d2b6859b9885bbb12872af61d24fa1b32a8010b807d9024f580d7b17"
   }
  }
 },
 "nbformat": 4,
 "nbformat_minor": 5
}
