{
 "cells": [
  {
   "cell_type": "raw",
   "metadata": {},
   "source": [
    "---\n",
    "title: \"Generate English name\"\n",
    "description: \"Train a language model to generate next character based on the previous characters to output an english name.\" \n",
    "date: 2022-9-23\n",
    "image: images/englishname.jpeg\n",
    "categories:\n",
    "  - deep learning\n",
    "  - nlp\n",
    "---"
   ]
  },
  {
   "cell_type": "markdown",
   "metadata": {},
   "source": [
    "## Goal"
   ]
  },
  {
   "cell_type": "markdown",
   "metadata": {},
   "source": [
    "This project train a language model to generate next character based on the previous characters to output an english name."
   ]
  },
  {
   "cell_type": "markdown",
   "metadata": {},
   "source": [
    "## Tools used"
   ]
  },
  {
   "cell_type": "markdown",
   "metadata": {},
   "source": [
    "Python, PyTorch."
   ]
  },
  {
   "cell_type": "markdown",
   "metadata": {},
   "source": [
    "## Read more"
   ]
  },
  {
   "cell_type": "markdown",
   "metadata": {},
   "source": [
    "[<i class=\"bi bi-globe\"></i> Project website](https://youfenglab.github.io/){target=\"_blank\"}\n",
    "&ensp;\n",
    "[<i class=\"bi bi-github\"></i> GitHub repo](https://github.com/youfenglab/youfenglab.github.io){target=\"_blank\"}"
   ]
  },
  {
   "cell_type": "code",
   "execution_count": null,
   "metadata": {},
   "outputs": [],
   "source": []
  }
 ],
 "metadata": {
  "kernelspec": {
   "display_name": "Python 3 (ipykernel)",
   "language": "python",
   "name": "python3"
  }
 },
 "nbformat": 4,
 "nbformat_minor": 4
}
