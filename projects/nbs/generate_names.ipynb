{
 "cells": [
  {
   "cell_type": "raw",
   "metadata": {},
   "source": [
    "---\n",
    "title: \"Generate English name\"\n",
    "description: \"Train a language model to generate english names\"\n",
    "date: 2022-9-23\n",
    "image: images/englishname.jpeg\n",
    "categories:\n",
    "  - deep learning\n",
    "  - nlp\n",
    "---"
   ]
  },
  {
   "cell_type": "markdown",
   "metadata": {},
   "source": [
    "### Project summary"
   ]
  },
  {
   "cell_type": "markdown",
   "metadata": {},
   "source": [
    "This project train a language model to generate next character based on the previous characters to output an english name."
   ]
  },
  {
   "cell_type": "markdown",
   "metadata": {},
   "source": [
    "### Tools used"
   ]
  },
  {
   "cell_type": "markdown",
   "metadata": {},
   "source": [
    "Python, PyTorch."
   ]
  },
  {
   "cell_type": "markdown",
   "metadata": {},
   "source": [
    "### Read more"
   ]
  },
  {
   "cell_type": "markdown",
   "metadata": {},
   "source": [
    "[<i class=\"bi bi-globe\"></i> Project website](https://youfenglab.github.io/){target=\"_blank\"}\n",
    "&ensp;\n",
    "[<i class=\"bi bi-github\"></i> GitHub repo](https://github.com/youfenglab/youfenglab.github.io){target=\"_blank\"}"
   ]
  },
  {
   "cell_type": "code",
   "execution_count": null,
   "metadata": {},
   "outputs": [],
   "source": []
  }
 ],
 "metadata": {
  "kernelspec": {
   "display_name": "Python 3.9.13 ('base')",
   "language": "python",
   "name": "python3"
  },
  "language_info": {
   "name": "python",
   "version": "3.9.13"
  },
  "vscode": {
   "interpreter": {
    "hash": "93fbf386d2b6859b9885bbb12872af61d24fa1b32a8010b807d9024f580d7b17"
   }
  }
 },
 "nbformat": 4,
 "nbformat_minor": 4
}
