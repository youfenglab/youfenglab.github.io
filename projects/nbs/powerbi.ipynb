{
 "cells": [
  {
   "cell_type": "raw",
   "id": "fe3256f0",
   "metadata": {},
   "source": [
    "---\n",
    "title: \"Power BI\"\n",
    "description: \"This notebook will show how to use Power BI\" \n",
    "date: 2022-05-23\n",
    "categories:\n",
    "  - data visualization\n",
    "---"
   ]
  },
  {
   "cell_type": "code",
   "execution_count": null,
   "id": "dc298b5c",
   "metadata": {},
   "outputs": [],
   "source": []
  },
  {
   "cell_type": "code",
   "execution_count": null,
   "id": "d3137cbd",
   "metadata": {},
   "outputs": [],
   "source": []
  }
 ],
 "metadata": {
  "kernelspec": {
   "display_name": "Python 3 (ipykernel)",
   "language": "python",
   "name": "python3"
  }
 },
 "nbformat": 4,
 "nbformat_minor": 5
}
