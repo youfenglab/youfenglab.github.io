{
 "cells": [
  {
   "cell_type": "raw",
   "id": "e894775a",
   "metadata": {},
   "source": [
    "---\n",
    "title: Row and column in Spark\n",
    "date: 2022-11-21\n",
    "categories:\n",
    "  - spark\n",
    "---"
   ]
  },
  {
   "cell_type": "markdown",
   "id": "b5363743",
   "metadata": {},
   "source": [
    "## Row"
   ]
  },
  {
   "cell_type": "code",
   "execution_count": null,
   "id": "98b2abca",
   "metadata": {},
   "outputs": [
    {
     "name": "stdout",
     "output_type": "stream",
     "text": [
      "22/11/21 20:22:05 WARN Utils: Your hostname, Youfengs-MBP.local resolves to a loopback address: 127.0.0.1; using 192.168.4.22 instead (on interface en0)\n",
      "22/11/21 20:22:05 WARN Utils: Set SPARK_LOCAL_IP if you need to bind to another address\n"
     ]
    },
    {
     "name": "stderr",
     "output_type": "stream",
     "text": [
      "Setting default log level to \"WARN\".\n",
      "To adjust logging level use sc.setLogLevel(newLevel). For SparkR, use setLogLevel(newLevel).\n"
     ]
    },
    {
     "name": "stdout",
     "output_type": "stream",
     "text": [
      "22/11/21 20:22:06 WARN NativeCodeLoader: Unable to load native-hadoop library for your platform... using builtin-java classes where applicable\n"
     ]
    }
   ],
   "source": [
    "#|output: false\n",
    "from pyspark.sql import SparkSession\n",
    "from pyspark.sql import Row, Column\n",
    "from pyspark.sql.functions import expr\n",
    "\n",
    "spark = SparkSession.builder.appName('col-row').getOrCreate()"
   ]
  },
  {
   "cell_type": "code",
   "execution_count": null,
   "id": "0391ce53",
   "metadata": {},
   "outputs": [
    {
     "data": {
      "text/plain": [
       "[<Row('Brooke', 20)>,\n",
       " <Row('Denny', 31)>,\n",
       " <Row('Jules', 30)>,\n",
       " <Row('TD', 35)>,\n",
       " <Row('Brooke', 25)>]"
      ]
     },
     "execution_count": null,
     "metadata": {},
     "output_type": "execute_result"
    }
   ],
   "source": [
    "rows = [Row('Brooke', 20), Row('Denny', 31), Row('Jules', 30), Row('TD', 35), Row('Brooke', 25)]\n",
    "rows"
   ]
  },
  {
   "cell_type": "code",
   "execution_count": null,
   "id": "eb0dd701",
   "metadata": {},
   "outputs": [
    {
     "name": "stderr",
     "output_type": "stream",
     "text": [
      "[Stage 0:>                                                          (0 + 1) / 1]\r"
     ]
    },
    {
     "name": "stdout",
     "output_type": "stream",
     "text": [
      "+------+---+\n",
      "|  name|age|\n",
      "+------+---+\n",
      "|Brooke| 20|\n",
      "| Denny| 31|\n",
      "| Jules| 30|\n",
      "|    TD| 35|\n",
      "|Brooke| 25|\n",
      "+------+---+\n",
      "\n"
     ]
    },
    {
     "name": "stderr",
     "output_type": "stream",
     "text": [
      "\r",
      "                                                                                \r"
     ]
    }
   ],
   "source": [
    "df = spark.createDataFrame(rows, ['name', 'age'])\n",
    "df.show()"
   ]
  },
  {
   "cell_type": "markdown",
   "id": "a74040d0",
   "metadata": {},
   "source": [
    "## Column"
   ]
  },
  {
   "cell_type": "code",
   "execution_count": null,
   "id": "65525fbe",
   "metadata": {},
   "outputs": [
    {
     "data": {
      "text/plain": [
       "Column<'(age + 3)'>"
      ]
     },
     "execution_count": null,
     "metadata": {},
     "output_type": "execute_result"
    }
   ],
   "source": [
    "new_col = expr(\"age + 3\")\n",
    "new_col"
   ]
  },
  {
   "cell_type": "code",
   "execution_count": null,
   "id": "b70e8e3d",
   "metadata": {},
   "outputs": [
    {
     "name": "stdout",
     "output_type": "stream",
     "text": [
      "+------+---+-----------------+\n",
      "|  name|age|age after 3 years|\n",
      "+------+---+-----------------+\n",
      "|Brooke| 20|               23|\n",
      "| Denny| 31|               34|\n",
      "| Jules| 30|               33|\n",
      "|    TD| 35|               38|\n",
      "|Brooke| 25|               28|\n",
      "+------+---+-----------------+\n",
      "\n"
     ]
    }
   ],
   "source": [
    "df.withColumn('age after 3 years', new_col).show()"
   ]
  },
  {
   "cell_type": "code",
   "execution_count": null,
   "id": "66b39a73",
   "metadata": {},
   "outputs": [
    {
     "data": {
      "text/plain": [
       "Column<'age'>"
      ]
     },
     "execution_count": null,
     "metadata": {},
     "output_type": "execute_result"
    }
   ],
   "source": [
    "df.age"
   ]
  },
  {
   "cell_type": "code",
   "execution_count": null,
   "id": "3f6aaf73",
   "metadata": {},
   "outputs": [
    {
     "name": "stdout",
     "output_type": "stream",
     "text": [
      "+------+---+-----------------+\n",
      "|  name|age|age after 5 years|\n",
      "+------+---+-----------------+\n",
      "|Brooke| 20|               25|\n",
      "| Denny| 31|               36|\n",
      "| Jules| 30|               35|\n",
      "|    TD| 35|               40|\n",
      "|Brooke| 25|               30|\n",
      "+------+---+-----------------+\n",
      "\n"
     ]
    }
   ],
   "source": [
    "df.withColumn('age after 5 years', (df.age + 5)).show()"
   ]
  },
  {
   "cell_type": "code",
   "execution_count": null,
   "id": "5d5e3d1a",
   "metadata": {},
   "outputs": [],
   "source": [
    "#|output: false\n",
    "spark.stop()"
   ]
  },
  {
   "cell_type": "code",
   "execution_count": null,
   "id": "c423babe",
   "metadata": {},
   "outputs": [],
   "source": []
  }
 ],
 "metadata": {
  "kernelspec": {
   "display_name": "Python 3 (ipykernel)",
   "language": "python",
   "name": "python3"
  }
 },
 "nbformat": 4,
 "nbformat_minor": 5
}
