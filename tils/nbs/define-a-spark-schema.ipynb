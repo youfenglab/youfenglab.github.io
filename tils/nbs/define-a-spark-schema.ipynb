{
 "cells": [
  {
   "cell_type": "raw",
   "id": "e894775a",
   "metadata": {},
   "source": [
    "---\n",
    "title: Define a spark schema\n",
    "date: 2022-11-17\n",
    "categories:\n",
    "  - Spark\n",
    "---"
   ]
  },
  {
   "cell_type": "markdown",
   "id": "ab1fd138",
   "metadata": {},
   "source": [
    "### Setup"
   ]
  },
  {
   "cell_type": "code",
   "execution_count": null,
   "id": "98b2abca",
   "metadata": {},
   "outputs": [],
   "source": [
    "from pyspark.sql.types import *\n",
    "from pyspark.sql import SparkSession"
   ]
  },
  {
   "cell_type": "code",
   "execution_count": null,
   "id": "72e13b02",
   "metadata": {},
   "outputs": [],
   "source": [
    "spark = SparkSession.builder.appName('Simple-table').getOrCreate()"
   ]
  },
  {
   "cell_type": "markdown",
   "id": "22a0ce5b",
   "metadata": {},
   "source": [
    "### Define it programmatically"
   ]
  },
  {
   "cell_type": "code",
   "execution_count": null,
   "id": "50c18593",
   "metadata": {},
   "outputs": [],
   "source": [
    "schema = StructType([StructField(\"first name\", StringType(), False), \n",
    "                     StructField(\"last name\", StringType(), False), \n",
    "                     StructField(\"weight\", IntegerType(), False)])"
   ]
  },
  {
   "cell_type": "code",
   "execution_count": null,
   "id": "1ea6a010",
   "metadata": {},
   "outputs": [
    {
     "data": {
      "text/plain": [
       "StructType([StructField('first name', StringType(), False), StructField('last name', StringType(), False), StructField('weight', IntegerType(), False)])"
      ]
     },
     "execution_count": null,
     "metadata": {},
     "output_type": "execute_result"
    }
   ],
   "source": [
    "schema"
   ]
  },
  {
   "cell_type": "markdown",
   "id": "1bada44d",
   "metadata": {},
   "source": [
    "`False` indicate whether the field can be null (None) or not."
   ]
  },
  {
   "cell_type": "code",
   "execution_count": null,
   "id": "b437c0c2",
   "metadata": {},
   "outputs": [],
   "source": [
    "data = [['Jake', 'Z', 60], ['Tom', 'X', 50]]"
   ]
  },
  {
   "cell_type": "code",
   "execution_count": null,
   "id": "46dc7b8a",
   "metadata": {},
   "outputs": [
    {
     "name": "stdout",
     "output_type": "stream",
     "text": [
      "+----------+---------+------+\n",
      "|first name|last name|weight|\n",
      "+----------+---------+------+\n",
      "|      Jake|        Z|    60|\n",
      "|       Tom|        X|    50|\n",
      "+----------+---------+------+\n",
      "\n"
     ]
    }
   ],
   "source": [
    "df = spark.createDataFrame(data, schema)\n",
    "df.show()"
   ]
  },
  {
   "cell_type": "markdown",
   "id": "a506664b",
   "metadata": {},
   "source": [
    "### Define it using DDL\n",
    "\n",
    "This method is much simper."
   ]
  },
  {
   "cell_type": "code",
   "execution_count": null,
   "id": "410d6d30",
   "metadata": {},
   "outputs": [],
   "source": [
    "schema = \"first_name STRING, last_name STRING, weight INT\""
   ]
  },
  {
   "cell_type": "code",
   "execution_count": null,
   "id": "3a2b46bb",
   "metadata": {},
   "outputs": [
    {
     "data": {
      "text/plain": [
       "'first_name STRING, last_name STRING, weight INT'"
      ]
     },
     "execution_count": null,
     "metadata": {},
     "output_type": "execute_result"
    }
   ],
   "source": [
    "schema"
   ]
  },
  {
   "cell_type": "code",
   "execution_count": null,
   "id": "9fb82409",
   "metadata": {},
   "outputs": [
    {
     "name": "stdout",
     "output_type": "stream",
     "text": [
      "+----------+---------+------+\n",
      "|first_name|last_name|weight|\n",
      "+----------+---------+------+\n",
      "|      Jake|        Z|    60|\n",
      "|       Tom|        X|    50|\n",
      "+----------+---------+------+\n",
      "\n"
     ]
    }
   ],
   "source": [
    "df = spark.createDataFrame(data, schema)\n",
    "df.show()"
   ]
  },
  {
   "cell_type": "markdown",
   "id": "c306503a",
   "metadata": {},
   "source": [
    ":::{.callout-warning}\n",
    "            \n",
    "A disadvantage of this method is we cannot put `space` or `-` between words.\n",
    "\n",
    ":::"
   ]
  },
  {
   "cell_type": "code",
   "execution_count": null,
   "id": "5d5e3d1a",
   "metadata": {},
   "outputs": [],
   "source": [
    "spark.stop()"
   ]
  },
  {
   "cell_type": "code",
   "execution_count": null,
   "id": "c423babe",
   "metadata": {},
   "outputs": [],
   "source": []
  }
 ],
 "metadata": {
  "kernelspec": {
   "display_name": "Python 3 (ipykernel)",
   "language": "python",
   "name": "python3"
  }
 },
 "nbformat": 4,
 "nbformat_minor": 5
}
