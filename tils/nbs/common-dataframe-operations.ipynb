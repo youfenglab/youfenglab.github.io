{
 "cells": [
  {
   "cell_type": "raw",
   "id": "e894775a",
   "metadata": {},
   "source": [
    "---\n",
    "title: Common DataFrame operations\n",
    "date: 2022-11-21\n",
    "categories:\n",
    "  - spark\n",
    "---"
   ]
  },
  {
   "cell_type": "markdown",
   "id": "b5363743",
   "metadata": {},
   "source": [
    "## Common DataFrame operations"
   ]
  },
  {
   "cell_type": "markdown",
   "id": "7b1d5b14",
   "metadata": {},
   "source": [
    "::: {.callout-tip}\n",
    "\n",
    "If we don't specify the schema, Spark can infer the schema from the data.\\\n",
    "However, for large datasets and files, it's more efficient to define a schema than have Spark infer it.\n",
    "\n",
    ":::"
   ]
  },
  {
   "cell_type": "markdown",
   "id": "d5dc4cbd",
   "metadata": {},
   "source": [
    "### Using the DataFrameReader interface to read a csv file"
   ]
  },
  {
   "cell_type": "code",
   "execution_count": null,
   "id": "98b2abca",
   "metadata": {},
   "outputs": [],
   "source": [
    "#|output: false\n",
    "from pyspark.sql import SparkSession\n",
    "from pyspark.sql.types import *\n",
    "\n",
    "spark = SparkSession.builder.appName('CSV-Reader').getOrCreate()"
   ]
  },
  {
   "cell_type": "markdown",
   "id": "27b58829",
   "metadata": {},
   "source": [
    "``` {.python}\n",
    "# In python, the syntax is as below.\n",
    "df = spark.read.csv('csv_file_path', header=True, schema=csv_file_schema)\n",
    "```"
   ]
  },
  {
   "cell_type": "markdown",
   "id": "da4695d0",
   "metadata": {},
   "source": [
    "::: {.callout-important}\n",
    "\n",
    "`csv_file_schema` is defined before reading the file.\n",
    "\n",
    ":::"
   ]
  },
  {
   "cell_type": "markdown",
   "id": "142fbfb4",
   "metadata": {},
   "source": [
    "### Saviing a DataFrame as a parquet file or SQL table"
   ]
  },
  {
   "cell_type": "markdown",
   "id": "b23cc440",
   "metadata": {},
   "source": [
    "::: {.panel-tabset}\n",
    "### Save as a parquet file\n",
    "\n",
    "``` {.python}\n",
    "parquet_path = '...'\n",
    "df.write.format(\"parquet\").save(parquet_path)\n",
    "```\n",
    "\n",
    "### Save as a parquet table\n",
    "\n",
    "``` {.python}\n",
    "parquet_table = '...'                                   # name of the table\n",
    "df.write.format(\"parquet\").saveAsTable(parquet_table)\n",
    "```\n",
    "\n",
    ":::"
   ]
  },
  {
   "cell_type": "markdown",
   "id": "6047edde",
   "metadata": {},
   "source": [
    "> SQL table will cover later"
   ]
  },
  {
   "cell_type": "markdown",
   "id": "99b63c13",
   "metadata": {},
   "source": [
    "### Projections and filters"
   ]
  },
  {
   "cell_type": "markdown",
   "id": "461ab30f",
   "metadata": {},
   "source": [
    "``` {.python}\n",
    "# in Spark, projections are done with `select()` method,\n",
    "# while filters can be conducted using `filter()` or `where()` method.\n",
    "\n",
    "sub_df = df.select([columns list]).where(col(column name == 'some condition'))\n",
    "sub_df.show(5, truncate=False)\n",
    "\n",
    "```"
   ]
  },
  {
   "cell_type": "markdown",
   "id": "5f341235",
   "metadata": {},
   "source": [
    "### Renaming, adding, dropping columns"
   ]
  },
  {
   "cell_type": "markdown",
   "id": "490c2183",
   "metadata": {},
   "source": [
    "::: {.panel-tabset}\n",
    "### Renaming\n",
    "\n",
    "``` {.python}\n",
    "df.withColumnRenamed('name of current column', 'renamed column name')\n",
    "```\n",
    "\n",
    "### Adding\n",
    "\n",
    "``` {.python}\n",
    "df.withColumn('target column', 'new_column')\n",
    "```\n",
    "\n",
    "### Dropping\n",
    "\n",
    "``` {.python}\n",
    "df.drop('columns needed to drop')\n",
    "```\n",
    "\n",
    ":::"
   ]
  },
  {
   "cell_type": "markdown",
   "id": "7faf4c8c",
   "metadata": {},
   "source": [
    "More details look at book `Learning Spark`"
   ]
  },
  {
   "cell_type": "code",
   "execution_count": null,
   "id": "5d5e3d1a",
   "metadata": {},
   "outputs": [],
   "source": [
    "#|output: false\n",
    "spark.stop()"
   ]
  },
  {
   "cell_type": "code",
   "execution_count": null,
   "id": "c423babe",
   "metadata": {},
   "outputs": [],
   "source": []
  }
 ],
 "metadata": {
  "kernelspec": {
   "display_name": "Python 3 (ipykernel)",
   "language": "python",
   "name": "python3"
  }
 },
 "nbformat": 4,
 "nbformat_minor": 5
}
