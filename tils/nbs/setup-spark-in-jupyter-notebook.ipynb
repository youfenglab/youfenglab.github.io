{
 "cells": [
  {
   "cell_type": "raw",
   "id": "07bc9f3e",
   "metadata": {},
   "source": [
    "---\n",
    "title: Set up spark in Jupyter Notebook\n",
    "date: 2022-11-15\n",
    "categories:\n",
    "  - Spark\n",
    "  - Jupyter Notebook\n",
    "---"
   ]
  },
  {
   "cell_type": "markdown",
   "id": "f9b14d83",
   "metadata": {},
   "source": [
    "### Low level API"
   ]
  },
  {
   "cell_type": "code",
   "execution_count": null,
   "id": "e7343e38",
   "metadata": {},
   "outputs": [],
   "source": [
    "from pyspark import SparkContext, SparkConf"
   ]
  },
  {
   "cell_type": "code",
   "execution_count": null,
   "id": "ea6d18c8",
   "metadata": {},
   "outputs": [
    {
     "name": "stderr",
     "output_type": "stream",
     "text": [
      "Setting default log level to \"WARN\".\n",
      "To adjust logging level use sc.setLogLevel(newLevel). For SparkR, use setLogLevel(newLevel).\n"
     ]
    },
    {
     "name": "stdout",
     "output_type": "stream",
     "text": [
      "22/11/17 11:17:45 WARN NativeCodeLoader: Unable to load native-hadoop library for your platform... using builtin-java classes where applicable\n"
     ]
    }
   ],
   "source": [
    "conf = SparkConf().setMaster('local')\n",
    "sc = SparkContext(conf=conf)"
   ]
  },
  {
   "cell_type": "code",
   "execution_count": null,
   "id": "120019ce",
   "metadata": {},
   "outputs": [],
   "source": [
    "sc.stop()"
   ]
  },
  {
   "cell_type": "markdown",
   "id": "8112587e",
   "metadata": {},
   "source": [
    "### High level API"
   ]
  },
  {
   "cell_type": "code",
   "execution_count": null,
   "id": "81ed8e89",
   "metadata": {},
   "outputs": [],
   "source": [
    "from pyspark.sql import SparkSession"
   ]
  },
  {
   "cell_type": "code",
   "execution_count": null,
   "id": "b312075c",
   "metadata": {},
   "outputs": [],
   "source": [
    "spark = SparkSession.builder.appName('chapter2').getOrCreate()"
   ]
  },
  {
   "cell_type": "code",
   "execution_count": null,
   "id": "7561ef97",
   "metadata": {},
   "outputs": [],
   "source": [
    "spark.stop()"
   ]
  },
  {
   "cell_type": "code",
   "execution_count": null,
   "id": "86d42bef",
   "metadata": {},
   "outputs": [],
   "source": []
  }
 ],
 "metadata": {
  "kernelspec": {
   "display_name": "Python 3 (ipykernel)",
   "language": "python",
   "name": "python3"
  }
 },
 "nbformat": 4,
 "nbformat_minor": 5
}
