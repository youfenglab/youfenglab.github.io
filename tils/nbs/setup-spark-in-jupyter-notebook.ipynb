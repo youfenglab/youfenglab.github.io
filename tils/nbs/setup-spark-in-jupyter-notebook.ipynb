{
 "cells": [
  {
   "cell_type": "raw",
   "id": "07bc9f3e",
   "metadata": {},
   "source": [
    "---\n",
    "title: Set up spark in Jupyter Notebook\n",
    "date: 2022-11-15\n",
    "categories:\n",
    "  - spark\n",
    "  - jupyter notebook\n",
    "---"
   ]
  },
  {
   "cell_type": "markdown",
   "id": "f9b14d83",
   "metadata": {},
   "source": [
    "### Using the low-level RDD API"
   ]
  },
  {
   "cell_type": "code",
   "execution_count": null,
   "id": "e7343e38",
   "metadata": {},
   "outputs": [],
   "source": [
    "from pyspark import SparkContext, SparkConf"
   ]
  },
  {
   "cell_type": "code",
   "execution_count": null,
   "id": "ea6d18c8",
   "metadata": {},
   "outputs": [],
   "source": [
    "conf = SparkConf().setMaster('local')\n",
    "sc = SparkContext(conf=conf)"
   ]
  },
  {
   "cell_type": "code",
   "execution_count": null,
   "id": "120019ce",
   "metadata": {},
   "outputs": [],
   "source": [
    "sc.stop()"
   ]
  },
  {
   "cell_type": "markdown",
   "id": "8112587e",
   "metadata": {},
   "source": [
    "### Using high-level DSL operators and the DataFrame API"
   ]
  },
  {
   "cell_type": "code",
   "execution_count": null,
   "id": "81ed8e89",
   "metadata": {},
   "outputs": [],
   "source": [
    "from pyspark.sql import SparkSession"
   ]
  },
  {
   "cell_type": "code",
   "execution_count": null,
   "id": "b312075c",
   "metadata": {},
   "outputs": [],
   "source": [
    "spark = SparkSession.builder.appName('chapter2').getOrCreate()"
   ]
  },
  {
   "cell_type": "code",
   "execution_count": null,
   "id": "7561ef97",
   "metadata": {},
   "outputs": [],
   "source": [
    "spark.stop()"
   ]
  },
  {
   "cell_type": "code",
   "execution_count": null,
   "id": "86d42bef",
   "metadata": {},
   "outputs": [],
   "source": []
  }
 ],
 "metadata": {
  "kernelspec": {
   "display_name": "Python 3 (ipykernel)",
   "language": "python",
   "name": "python3"
  }
 },
 "nbformat": 4,
 "nbformat_minor": 5
}
