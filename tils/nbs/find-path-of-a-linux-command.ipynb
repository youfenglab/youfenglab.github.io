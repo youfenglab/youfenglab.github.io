{
 "cells": [
  {
   "cell_type": "raw",
   "id": "f1fa394a",
   "metadata": {},
   "source": [
    "---\n",
    "title: Find the path of a Linux command\n",
    "date: 2022-11-15\n",
    "categories:\n",
    "  - linux\n",
    "---"
   ]
  },
  {
   "cell_type": "markdown",
   "id": "b8ea169f",
   "metadata": {},
   "source": [
    "Suppose we want to find the `path` of the command `spark-submit` in terminal, we can do it in 4 ways."
   ]
  },
  {
   "cell_type": "markdown",
   "id": "954f520e",
   "metadata": {},
   "source": [
    "### `which` command"
   ]
  },
  {
   "cell_type": "code",
   "execution_count": null,
   "id": "bb498a97",
   "metadata": {},
   "outputs": [
    {
     "name": "stdout",
     "output_type": "stream",
     "text": [
      "/Users/youfeng/mambaforge/bin/spark-submit\r\n"
     ]
    }
   ],
   "source": [
    "!which spark-submit"
   ]
  },
  {
   "cell_type": "markdown",
   "id": "2121c172",
   "metadata": {},
   "source": [
    "With a parameter `-a` will print all matching paths. In this case, there is only one."
   ]
  },
  {
   "cell_type": "code",
   "execution_count": null,
   "id": "8f47e4e5",
   "metadata": {},
   "outputs": [
    {
     "name": "stdout",
     "output_type": "stream",
     "text": [
      "/Users/youfeng/mambaforge/bin/spark-submit\r\n"
     ]
    }
   ],
   "source": [
    "!which -a spark-submit"
   ]
  },
  {
   "cell_type": "markdown",
   "id": "6f2d9b03",
   "metadata": {},
   "source": [
    "### `command` command"
   ]
  },
  {
   "cell_type": "code",
   "execution_count": null,
   "id": "36827115",
   "metadata": {},
   "outputs": [
    {
     "name": "stdout",
     "output_type": "stream",
     "text": [
      "/Users/youfeng/mambaforge/bin/spark-submit\r\n"
     ]
    }
   ],
   "source": [
    "!command -v spark-submit"
   ]
  },
  {
   "cell_type": "code",
   "execution_count": null,
   "id": "03213d12",
   "metadata": {},
   "outputs": [
    {
     "name": "stdout",
     "output_type": "stream",
     "text": [
      "spark-submit is /Users/youfeng/mambaforge/bin/spark-submit\r\n"
     ]
    }
   ],
   "source": [
    "!command -V spark-submit"
   ]
  },
  {
   "cell_type": "markdown",
   "id": "7bf42052",
   "metadata": {},
   "source": [
    ":::{.callout-warning}\n",
    "            \n",
    "We must pass the parameter `-v` or `-V`, otherwise, it will run the command.\n",
    "\n",
    ":::"
   ]
  },
  {
   "cell_type": "markdown",
   "id": "f877b140",
   "metadata": {},
   "source": [
    "### `type` command"
   ]
  },
  {
   "cell_type": "markdown",
   "id": "8d87907a",
   "metadata": {},
   "source": [
    "Show the path"
   ]
  },
  {
   "cell_type": "code",
   "execution_count": null,
   "id": "71bb6da9",
   "metadata": {},
   "outputs": [
    {
     "name": "stdout",
     "output_type": "stream",
     "text": [
      "spark-submit is /Users/youfeng/mambaforge/bin/spark-submit\r\n"
     ]
    }
   ],
   "source": [
    "!type -p spark-submit"
   ]
  },
  {
   "cell_type": "markdown",
   "id": "d48ee3d3",
   "metadata": {},
   "source": [
    "Show the definition"
   ]
  },
  {
   "cell_type": "code",
   "execution_count": null,
   "id": "1273b4a2",
   "metadata": {},
   "outputs": [
    {
     "name": "stdout",
     "output_type": "stream",
     "text": [
      "spark-submit is /Users/youfeng/mambaforge/bin/spark-submit\r\n"
     ]
    }
   ],
   "source": [
    "!type spark-submit"
   ]
  },
  {
   "cell_type": "markdown",
   "id": "f622ad71",
   "metadata": {},
   "source": [
    "Show the definition, excutable type, and path"
   ]
  },
  {
   "cell_type": "code",
   "execution_count": null,
   "id": "364da7d6",
   "metadata": {},
   "outputs": [
    {
     "name": "stdout",
     "output_type": "stream",
     "text": [
      "spark-submit is /Users/youfeng/mambaforge/bin/spark-submit\r\n"
     ]
    }
   ],
   "source": [
    "!type -a spark-submit"
   ]
  },
  {
   "cell_type": "markdown",
   "id": "299e353b",
   "metadata": {},
   "source": [
    "### `whereis` command"
   ]
  },
  {
   "cell_type": "markdown",
   "id": "18c4ec7d",
   "metadata": {},
   "source": [
    "Show all the locations of the binary, source, manual page"
   ]
  },
  {
   "cell_type": "code",
   "execution_count": null,
   "id": "d75a3996",
   "metadata": {},
   "outputs": [
    {
     "name": "stdout",
     "output_type": "stream",
     "text": [
      "spark-submit: /Users/youfeng/mambaforge/bin/spark-submit\r\n"
     ]
    }
   ],
   "source": [
    "!whereis spark-submit"
   ]
  },
  {
   "cell_type": "markdown",
   "id": "c546dc40",
   "metadata": {},
   "source": [
    "Show the locations of the binary"
   ]
  },
  {
   "cell_type": "code",
   "execution_count": null,
   "id": "94436973",
   "metadata": {},
   "outputs": [
    {
     "name": "stdout",
     "output_type": "stream",
     "text": [
      "spark-submit: /Users/youfeng/mambaforge/bin/spark-submit\r\n"
     ]
    }
   ],
   "source": [
    "!whereis -b spark-submit"
   ]
  },
  {
   "cell_type": "markdown",
   "id": "7e7372ea",
   "metadata": {},
   "source": [
    "Show the locations of the source"
   ]
  },
  {
   "cell_type": "code",
   "execution_count": null,
   "id": "e2e00f8a",
   "metadata": {},
   "outputs": [],
   "source": []
  }
 ],
 "metadata": {
  "kernelspec": {
   "display_name": "Python 3 (ipykernel)",
   "language": "python",
   "name": "python3"
  }
 },
 "nbformat": 4,
 "nbformat_minor": 5
}
