{
 "cells": [
  {
   "cell_type": "raw",
   "id": "f1fa394a",
   "metadata": {},
   "source": [
    "---\n",
    "title: Finding the path of a command\n",
    "description: Bash or zsh\n",
    "date: 2022-11-15\n",
    "categories:\n",
    "  - TIL\n",
    "---"
   ]
  },
  {
   "cell_type": "markdown",
   "id": "f877b140",
   "metadata": {},
   "source": [
    "### In MacOS terminal"
   ]
  },
  {
   "cell_type": "markdown",
   "id": "85312dcc",
   "metadata": {},
   "source": [
    "Suppose we want to find the `path` of the command `spark-submit`, we can simpliy type \n",
    "\n",
    "`type -a spark-submit` in the terminal command line."
   ]
  },
  {
   "cell_type": "code",
   "execution_count": 1,
   "id": "71bb6da9",
   "metadata": {},
   "outputs": [
    {
     "name": "stdout",
     "output_type": "stream",
     "text": [
      "spark-submit is /Users/youfeng/mambaforge/bin/spark-submit\n"
     ]
    }
   ],
   "source": [
    "!type -a spark-submit"
   ]
  },
  {
   "cell_type": "code",
   "execution_count": null,
   "id": "1273b4a2",
   "metadata": {},
   "outputs": [],
   "source": []
  }
 ],
 "metadata": {
  "kernelspec": {
   "display_name": "Python 3.9.13 ('base')",
   "language": "python",
   "name": "python3"
  },
  "language_info": {
   "codemirror_mode": {
    "name": "ipython",
    "version": 3
   },
   "file_extension": ".py",
   "mimetype": "text/x-python",
   "name": "python",
   "nbconvert_exporter": "python",
   "pygments_lexer": "ipython3",
   "version": "3.9.13"
  },
  "vscode": {
   "interpreter": {
    "hash": "93fbf386d2b6859b9885bbb12872af61d24fa1b32a8010b807d9024f580d7b17"
   }
  }
 },
 "nbformat": 4,
 "nbformat_minor": 5
}
