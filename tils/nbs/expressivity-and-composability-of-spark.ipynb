{
 "cells": [
  {
   "cell_type": "raw",
   "id": "e894775a",
   "metadata": {},
   "source": [
    "---\n",
    "title: Expressivity and composability of Spark\n",
    "date: 2022-11-21\n",
    "categories:\n",
    "  - spark\n",
    "---"
   ]
  },
  {
   "cell_type": "markdown",
   "id": "ae7b6328",
   "metadata": {},
   "source": [
    "## With low-level RDD API"
   ]
  },
  {
   "cell_type": "code",
   "execution_count": null,
   "id": "7ce9a15d",
   "metadata": {},
   "outputs": [],
   "source": [
    "#|output: false\n",
    "from pyspark import SparkContext\n",
    "\n",
    "sc = SparkContext('local')"
   ]
  },
  {
   "cell_type": "code",
   "execution_count": null,
   "id": "0d0bb644",
   "metadata": {},
   "outputs": [],
   "source": [
    "dataRDD = sc.parallelize([('Brooke', 20), ('Denny', 31), ('Jules', 30), ('TD', 35), ('Brooke', 25)])"
   ]
  },
  {
   "cell_type": "code",
   "execution_count": null,
   "id": "a3749672",
   "metadata": {},
   "outputs": [
    {
     "data": {
      "text/plain": [
       "('Brooke', 20)"
      ]
     },
     "execution_count": null,
     "metadata": {},
     "output_type": "execute_result"
    }
   ],
   "source": [
    "dataRDD.first()"
   ]
  },
  {
   "cell_type": "code",
   "execution_count": null,
   "id": "38fc0187",
   "metadata": {},
   "outputs": [
    {
     "data": {
      "text/plain": [
       "[('Brooke', 20), ('Denny', 31), ('Jules', 30), ('TD', 35), ('Brooke', 25)]"
      ]
     },
     "execution_count": null,
     "metadata": {},
     "output_type": "execute_result"
    }
   ],
   "source": [
    "dataRDD.collect() # only use when the dataset is small"
   ]
  },
  {
   "cell_type": "code",
   "execution_count": null,
   "id": "9b1f84cd",
   "metadata": {},
   "outputs": [
    {
     "data": {
      "text/plain": [
       "[('Brooke', (20, 1)),\n",
       " ('Denny', (31, 1)),\n",
       " ('Jules', (30, 1)),\n",
       " ('TD', (35, 1)),\n",
       " ('Brooke', (25, 1))]"
      ]
     },
     "execution_count": null,
     "metadata": {},
     "output_type": "execute_result"
    }
   ],
   "source": [
    "mapedRDD = dataRDD.map(lambda x: (x[0], (x[1], 1)))\n",
    "mapedRDD.collect()"
   ]
  },
  {
   "cell_type": "code",
   "execution_count": null,
   "id": "f094f6fa",
   "metadata": {},
   "outputs": [
    {
     "data": {
      "text/plain": [
       "[('Brooke', (45, 2)), ('Denny', (31, 1)), ('Jules', (30, 1)), ('TD', (35, 1))]"
      ]
     },
     "execution_count": null,
     "metadata": {},
     "output_type": "execute_result"
    }
   ],
   "source": [
    "reducedRDD = mapedRDD.reduceByKey(lambda x, y: (x[0] + y[0], x[1] + y[1]))\n",
    "reducedRDD.collect()"
   ]
  },
  {
   "cell_type": "code",
   "execution_count": null,
   "id": "029fbfb1",
   "metadata": {},
   "outputs": [
    {
     "data": {
      "text/plain": [
       "[('Brooke', 22.5), ('Denny', 31.0), ('Jules', 30.0), ('TD', 35.0)]"
      ]
     },
     "execution_count": null,
     "metadata": {},
     "output_type": "execute_result"
    }
   ],
   "source": [
    "mapedRDD = reducedRDD.map(lambda x: (x[0], x[1][0]/x[1][1]))\n",
    "mapedRDD.collect()"
   ]
  },
  {
   "cell_type": "code",
   "execution_count": null,
   "id": "87495237",
   "metadata": {},
   "outputs": [],
   "source": [
    "#|output: false\n",
    "sc.stop()"
   ]
  },
  {
   "cell_type": "markdown",
   "id": "b5363743",
   "metadata": {},
   "source": [
    "## With high-level DSL operates and DataFrame API"
   ]
  },
  {
   "cell_type": "code",
   "execution_count": null,
   "id": "98b2abca",
   "metadata": {},
   "outputs": [],
   "source": [
    "#|output: false\n",
    "from pyspark.sql import SparkSession\n",
    "from pyspark.sql.functions import avg\n",
    "\n",
    "spark = SparkSession.builder.appName('AvgAges').getOrCreate()"
   ]
  },
  {
   "cell_type": "code",
   "execution_count": null,
   "id": "ed5d379f",
   "metadata": {},
   "outputs": [
    {
     "name": "stdout",
     "output_type": "stream",
     "text": [
      "+------+---+\n",
      "|  name|age|\n",
      "+------+---+\n",
      "|Brooke| 20|\n",
      "| Denny| 31|\n",
      "| Jules| 30|\n",
      "|    TD| 35|\n",
      "|Brooke| 25|\n",
      "+------+---+\n",
      "\n"
     ]
    }
   ],
   "source": [
    "data_df = spark.createDataFrame([('Brooke', 20), ('Denny', 31), ('Jules', 30), ('TD', 35), ('Brooke', 25)], \n",
    "                                ['name', 'age'])\n",
    "data_df.show()"
   ]
  },
  {
   "cell_type": "code",
   "execution_count": null,
   "id": "5ed7eb97",
   "metadata": {},
   "outputs": [
    {
     "name": "stdout",
     "output_type": "stream",
     "text": [
      "+------+--------+\n",
      "|  name|avg(age)|\n",
      "+------+--------+\n",
      "|Brooke|    22.5|\n",
      "| Jules|    30.0|\n",
      "|    TD|    35.0|\n",
      "| Denny|    31.0|\n",
      "+------+--------+\n",
      "\n"
     ]
    }
   ],
   "source": [
    "avg_df = data_df.groupBy('name').agg(avg('age'))\n",
    "avg_df.show()"
   ]
  },
  {
   "cell_type": "markdown",
   "id": "c306503a",
   "metadata": {},
   "source": [
    ":::{.callout-note}\n",
    "            \n",
    "This version is far more expressive and simpler than the previous one.\n",
    "\n",
    ":::"
   ]
  },
  {
   "cell_type": "code",
   "execution_count": null,
   "id": "5d5e3d1a",
   "metadata": {},
   "outputs": [],
   "source": [
    "#|output: false\n",
    "spark.stop()"
   ]
  },
  {
   "cell_type": "code",
   "execution_count": null,
   "id": "c423babe",
   "metadata": {},
   "outputs": [],
   "source": []
  }
 ],
 "metadata": {
  "kernelspec": {
   "display_name": "Python 3 (ipykernel)",
   "language": "python",
   "name": "python3"
  }
 },
 "nbformat": 4,
 "nbformat_minor": 5
}
